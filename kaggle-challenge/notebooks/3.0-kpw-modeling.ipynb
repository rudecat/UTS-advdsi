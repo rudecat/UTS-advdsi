{
 "metadata": {
  "language_info": {
   "codemirror_mode": {
    "name": "ipython",
    "version": 3
   },
   "file_extension": ".py",
   "mimetype": "text/x-python",
   "name": "python",
   "nbconvert_exporter": "python",
   "pygments_lexer": "ipython3",
   "version": "3.9.1-final"
  },
  "orig_nbformat": 2,
  "kernelspec": {
   "name": "python3",
   "display_name": "Python 3",
   "language": "python"
  }
 },
 "nbformat": 4,
 "nbformat_minor": 2,
 "cells": [
  {
   "cell_type": "code",
   "execution_count": 1,
   "metadata": {},
   "outputs": [],
   "source": [
    "import joblib\n",
    "import pandas as pd\n",
    "import numpy as np"
   ]
  },
  {
   "cell_type": "code",
   "execution_count": 2,
   "metadata": {},
   "outputs": [],
   "source": [
    "X_train = joblib.load(\"../data/processed/X_train\")\n",
    "y_train = joblib.load(\"../data/processed/y_train\")\n",
    "X_val = joblib.load(\"../data/processed/X_val\")\n",
    "y_val = joblib.load(\"../data/processed/y_val\")"
   ]
  },
  {
   "cell_type": "code",
   "execution_count": 3,
   "metadata": {},
   "outputs": [
    {
     "output_type": "execute_result",
     "data": {
      "text/plain": [
       "array([1, 1, 1, ..., 1, 1, 1])"
      ]
     },
     "metadata": {},
     "execution_count": 3
    }
   ],
   "source": [
    "from sklearn.linear_model import LogisticRegression\n",
    "reg = LogisticRegression()\n",
    "reg.fit(X_train, y_train)\n",
    "y_pred = reg.predict(X_val)\n",
    "y_pred"
   ]
  },
  {
   "cell_type": "code",
   "execution_count": 4,
   "metadata": {},
   "outputs": [],
   "source": [
    "from sklearn.metrics import roc_auc_score\n",
    "max_roc_auc_score = 0.0\n",
    "def get_roc_auc_score(model):\n",
    "    global max_roc_auc_score\n",
    "    model.fit(X_train, y_train)\n",
    "    # If it's logistic regression, use predict_proba\n",
    "    if isinstance(model, LogisticRegression):\n",
    "        y_pred_train = model.predict_proba(X_train)[:,-1]\n",
    "        y_pred = model.predict_proba(X_val)[:,-1]\n",
    "        z_pred_train = model.predict(X_train)\n",
    "        z_pred = model.predict(X_val)\n",
    "        print(\"roc_auc_score for training classification: \"+ str(roc_auc_score(y_train, z_pred_train)))\n",
    "        print(\"roc_auc_score for testing classification: \"+ str(roc_auc_score(y_val, z_pred)))\n",
    "    else:\n",
    "        y_pred_train = model.predict(X_train)\n",
    "        y_pred = model.predict(X_val)\n",
    "\n",
    "    sureOne = np.vectorize(lambda x: 1 if x > 0.9 else x )\n",
    "    sureZero = np.vectorize(lambda x: 0 if x < 0.5 else x )\n",
    "\n",
    "    y_pred = sureOne(y_pred)\n",
    "    y_pred = sureZero(y_pred)\n",
    "\n",
    "    print(y_pred)\n",
    "\n",
    "    val_roc_auc_score = roc_auc_score(y_val, y_pred)\n",
    "    print(\"roc_auc_score for training set: \"+ str(roc_auc_score(y_train, y_pred_train)))\n",
    "    print(\"roc_auc_score for testing set: \"+ str(val_roc_auc_score))\n",
    "\n",
    "    if max_roc_auc_score < val_roc_auc_score:\n",
    "        print(\"The score is better than \"+ str(max_roc_auc_score) + \" so save the model\")\n",
    "        joblib.dump(model, \"../models/kpw_best_model\")\n",
    "        max_roc_auc_score = val_roc_auc_score"
   ]
  },
  {
   "cell_type": "code",
   "execution_count": 5,
   "metadata": {},
   "outputs": [
    {
     "output_type": "stream",
     "name": "stdout",
     "text": [
      "[0.8321875 0.8321875 0.8321875 ... 0.8321875 0.8321875 0.8321875]\nroc_auc_score for training set: 0.5\nroc_auc_score for testing set: 0.5\nThe score is better than 0.0 so save the model\n"
     ]
    }
   ],
   "source": [
    "from sklearn.linear_model import Lasso\n",
    "get_roc_auc_score(Lasso(alpha=0.1))\n"
   ]
  },
  {
   "cell_type": "code",
   "execution_count": 6,
   "metadata": {},
   "outputs": [
    {
     "output_type": "stream",
     "name": "stdout",
     "text": [
      "roc_auc_score for training classification: 0.5135755798300876\nroc_auc_score for testing classification: 0.5067492199066496\n[0.73836098 0.79777991 0.90993434 ... 0.92091971 0.74308528 0.91430544]\nroc_auc_score for training set: 0.7047104223614732\nroc_auc_score for testing set: 0.7069108882778841\nThe score is better than 0.5 so save the model\n"
     ]
    }
   ],
   "source": [
    "from sklearn.linear_model import LogisticRegression\n",
    "get_roc_auc_score(LogisticRegression())"
   ]
  },
  {
   "cell_type": "code",
   "execution_count": 7,
   "metadata": {},
   "outputs": [
    {
     "output_type": "stream",
     "name": "stdout",
     "text": [
      "roc_auc_score for training classification: 0.5135755798300876\nroc_auc_score for testing classification: 0.5067492199066496\n[0.73836098 0.79777991 0.90993434 ... 0.92091971 0.74308528 0.91430544]\nroc_auc_score for training set: 0.7047104223614732\nroc_auc_score for testing set: 0.7069108882778841\n"
     ]
    }
   ],
   "source": [
    "get_roc_auc_score(LogisticRegression(l1_ratio=0.5))"
   ]
  },
  {
   "cell_type": "code",
   "execution_count": 8,
   "metadata": {},
   "outputs": [
    {
     "output_type": "stream",
     "name": "stdout",
     "text": [
      "roc_auc_score for training classification: 0.5135755798300876\nroc_auc_score for testing classification: 0.5067492199066496\n[0.73836098 0.79777991 0.90993434 ... 0.92091971 0.74308528 0.91430544]\nroc_auc_score for training set: 0.7047104223614732\nroc_auc_score for testing set: 0.7069108882778841\n"
     ]
    }
   ],
   "source": [
    "get_roc_auc_score(LogisticRegression(random_state=0))"
   ]
  },
  {
   "cell_type": "code",
   "execution_count": 9,
   "metadata": {},
   "outputs": [
    {
     "output_type": "stream",
     "name": "stdout",
     "text": [
      "[[0.76421958]\n",
      " [0.78911927]\n",
      " [0.89922436]\n",
      " ...\n",
      " [0.92562282]\n",
      " [0.73115571]\n",
      " [0.89588775]]\n",
      "roc_auc_score for training set: 0.7037546738497277\n",
      "roc_auc_score for testing set: 0.7034689165032116\n"
     ]
    }
   ],
   "source": [
    "from sklearn.linear_model import LinearRegression\n",
    "get_roc_auc_score(LinearRegression())"
   ]
  },
  {
   "cell_type": "code",
   "execution_count": 10,
   "metadata": {},
   "outputs": [
    {
     "output_type": "stream",
     "name": "stdout",
     "text": [
      "[0.72 0.67 0.84 ... 0.77 0.82 0.63]\nroc_auc_score for training set: 1.0\nroc_auc_score for testing set: 0.6418074987469252\n"
     ]
    }
   ],
   "source": [
    "from sklearn.ensemble import RandomForestRegressor\n",
    "get_roc_auc_score(RandomForestRegressor())"
   ]
  },
  {
   "cell_type": "code",
   "execution_count": 11,
   "metadata": {},
   "outputs": [
    {
     "output_type": "stream",
     "name": "stdout",
     "text": [
      "[0.73178629 0.63555479 0.9254413  ... 0.84729232 0.82021343 0.81755706]\nroc_auc_score for training set: 0.8966321359467031\nroc_auc_score for testing set: 0.6832458836856912\n"
     ]
    }
   ],
   "source": [
    "get_roc_auc_score(RandomForestRegressor(n_estimators = 150, random_state = 8, max_depth = 8, min_samples_leaf = 2))"
   ]
  },
  {
   "cell_type": "code",
   "execution_count": 12,
   "metadata": {},
   "outputs": [
    {
     "output_type": "stream",
     "name": "stdout",
     "text": [
      "[0.72330667 0.67401038 0.91269408 ... 0.86996529 0.80434905 0.91260824]\nroc_auc_score for training set: 0.7669847716587962\nroc_auc_score for testing set: 0.6953130658755153\n"
     ]
    }
   ],
   "source": [
    "get_roc_auc_score(RandomForestRegressor(n_estimators = 100, random_state = 8, max_depth = 5, min_samples_leaf = 5))"
   ]
  },
  {
   "cell_type": "code",
   "execution_count": 13,
   "metadata": {},
   "outputs": [
    {
     "output_type": "stream",
     "name": "stdout",
     "text": [
      "[0.71872603 0.68335577 0.91818066 ... 0.87411779 0.80653069 0.91429383]\nroc_auc_score for training set: 0.7668797040064166\nroc_auc_score for testing set: 0.6935862854229018\n"
     ]
    }
   ],
   "source": [
    "get_roc_auc_score(RandomForestRegressor(n_estimators = 100, random_state = 8, max_depth = 5, min_samples_leaf = 3))"
   ]
  },
  {
   "cell_type": "code",
   "execution_count": 14,
   "metadata": {},
   "outputs": [
    {
     "output_type": "error",
     "ename": "SyntaxError",
     "evalue": "invalid syntax (<ipython-input-14-79ba340e1a25>, line 1)",
     "traceback": [
      "\u001b[0;36m  File \u001b[0;32m\"<ipython-input-14-79ba340e1a25>\"\u001b[0;36m, line \u001b[0;32m1\u001b[0m\n\u001b[0;31m    get_roc_auc_score(RandomForestRegressor(n_estimators = 100, random_state = 8, max_depth = 2In, min_samples_leaf = 7))\u001b[0m\n\u001b[0m                                                                                               ^\u001b[0m\n\u001b[0;31mSyntaxError\u001b[0m\u001b[0;31m:\u001b[0m invalid syntax\n"
     ]
    }
   ],
   "source": [
    "get_roc_auc_score(RandomForestRegressor(n_estimators = 100, random_state = 8, max_depth = 2In, min_samples_leaf = 7))"
   ]
  },
  {
   "cell_type": "code",
   "execution_count": null,
   "metadata": {},
   "outputs": [],
   "source": [
    "from sklearn.ensemble import GradientBoostingRegressor\n",
    "get_roc_auc_score(GradientBoostingRegressor(random_state=0))"
   ]
  },
  {
   "cell_type": "code",
   "execution_count": null,
   "metadata": {},
   "outputs": [],
   "source": [
    "get_roc_auc_score(GradientBoostingRegressor(random_state=0, learning_rate=0.05))"
   ]
  },
  {
   "cell_type": "code",
   "execution_count": null,
   "metadata": {},
   "outputs": [],
   "source": [
    "from sklearn.ensemble import VotingRegressor\n",
    "r1 = LinearRegression()\n",
    "r2 = LinearRegression()\n",
    "r5 = LinearRegression()\n",
    "r6 = LinearRegression()\n",
    "r7 = Lasso(alpha=0.1)\n",
    "r8 = GradientBoostingRegressor(random_state=0, learning_rate=0.05)\n",
    "r9 = RandomForestRegressor(n_estimators = 100, random_state = 8, max_depth = 5, min_samples_leaf = 5)\n",
    "r3 = RandomForestRegressor(n_estimators = 100, random_state = 8, max_depth = 2, min_samples_leaf = 2)\n",
    "# r4 = RandomForestRegressor(n_estimators = 100, random_state = 8, max_depth = 5, min_samples_leaf = 5)\n",
    "r4 = GradientBoostingRegressor(random_state=5)\n",
    "vr = VotingRegressor([('lr', r1), ('lr2', r2), ('rf', r3), ('rfh', r4), ('lr3', r5), ('lr4', r6), ('lr5', r7), ('lr6', r8), ('lr7', r9)])\n",
    "get_roc_auc_score(vr)"
   ]
  },
  {
   "cell_type": "code",
   "execution_count": null,
   "metadata": {},
   "outputs": [],
   "source": [
    "vr = VotingRegressor([('lr', r1), ('lr2', r2), ('rf', r3), ('rfh', r4), ('lr5', r7), ('lr6', r8), ('lr7', r9)])\n",
    "get_roc_auc_score(vr)"
   ]
  }
 ]
}