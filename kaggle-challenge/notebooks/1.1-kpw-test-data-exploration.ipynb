{
 "metadata": {
  "language_info": {
   "codemirror_mode": {
    "name": "ipython",
    "version": 3
   },
   "file_extension": ".py",
   "mimetype": "text/x-python",
   "name": "python",
   "nbconvert_exporter": "python",
   "pygments_lexer": "ipython3",
   "version": "3.9.1-final"
  },
  "orig_nbformat": 2,
  "kernelspec": {
   "name": "python3",
   "display_name": "Python 3",
   "language": "python"
  }
 },
 "nbformat": 4,
 "nbformat_minor": 2,
 "cells": [
  {
   "cell_type": "code",
   "execution_count": 1,
   "metadata": {},
   "outputs": [],
   "source": [
    "import pandas as pd\n",
    "pd.set_option('display.max_columns', None)"
   ]
  },
  {
   "cell_type": "code",
   "execution_count": 2,
   "metadata": {},
   "outputs": [],
   "source": [
    "df = pd.read_csv(\"../data/raw/test.csv\")"
   ]
  },
  {
   "cell_type": "code",
   "execution_count": 3,
   "metadata": {},
   "outputs": [
    {
     "output_type": "stream",
     "name": "stdout",
     "text": [
      "<class 'pandas.core.frame.DataFrame'>\nRangeIndex: 3799 entries, 0 to 3798\nData columns (total 21 columns):\n #   Column   Non-Null Count  Dtype  \n---  ------   --------------  -----  \n 0   Id_old   3799 non-null   int64  \n 1   Id       3799 non-null   int64  \n 2   GP       3799 non-null   int64  \n 3   MIN      3799 non-null   float64\n 4   PTS      3799 non-null   float64\n 5   FGM      3799 non-null   float64\n 6   FGA      3799 non-null   float64\n 7   FG%      3799 non-null   float64\n 8   3P Made  3799 non-null   float64\n 9   3PA      3799 non-null   float64\n 10  3P%      3799 non-null   float64\n 11  FTM      3799 non-null   float64\n 12  FTA      3799 non-null   float64\n 13  FT%      3799 non-null   float64\n 14  OREB     3799 non-null   float64\n 15  DREB     3799 non-null   float64\n 16  REB      3799 non-null   float64\n 17  AST      3799 non-null   float64\n 18  STL      3799 non-null   float64\n 19  BLK      3799 non-null   float64\n 20  TOV      3799 non-null   float64\ndtypes: float64(18), int64(3)\nmemory usage: 623.4 KB\n"
     ]
    }
   ],
   "source": [
    "df.info()"
   ]
  },
  {
   "source": [
    "No non-null and all values are numeric"
   ],
   "cell_type": "markdown",
   "metadata": {}
  },
  {
   "cell_type": "code",
   "execution_count": 4,
   "metadata": {},
   "outputs": [
    {
     "output_type": "execute_result",
     "data": {
      "text/plain": [
       "             Id_old           Id           GP          MIN          PTS  \\\n",
       "count   3799.000000  3799.000000  3799.000000  3799.000000  3799.000000   \n",
       "mean    7010.614109  1899.000000    62.853909    18.650224     7.328034   \n",
       "std     3954.173641  1096.821164    17.151740     8.727259     4.294724   \n",
       "min        1.000000     0.000000     6.000000     3.700000     0.700000   \n",
       "25%     3644.000000   949.500000    51.000000    12.200000     4.200000   \n",
       "50%     7062.000000  1899.000000    63.000000    17.000000     6.400000   \n",
       "75%    10402.500000  2848.500000    74.000000    23.300000     9.400000   \n",
       "max    13792.000000  3798.000000   126.000000    68.000000    33.000000   \n",
       "\n",
       "               FGM          FGA          FG%      3P Made          3PA  \\\n",
       "count  3799.000000  3799.000000  3799.000000  3799.000000  3799.000000   \n",
       "mean      2.835404     6.302580    44.599079     0.255962     0.796920   \n",
       "std       1.688427     3.579221     6.040168     0.380987     1.052862   \n",
       "min       0.300000     0.800000    25.100000    -1.000000    -2.700000   \n",
       "25%       1.600000     3.700000    40.500000     0.000000     0.100000   \n",
       "50%       2.500000     5.500000    44.600000     0.300000     0.800000   \n",
       "75%       3.700000     8.100000    48.500000     0.500000     1.500000   \n",
       "max      13.400000    26.200000    74.600000     1.600000     4.300000   \n",
       "\n",
       "               3P%          FTM          FTA          FT%         OREB  \\\n",
       "count  3799.000000  3799.000000  3799.000000  3799.000000  3799.000000   \n",
       "mean     19.234746     1.399842     1.953567    71.612924     1.096025   \n",
       "std      15.968989     0.926140     1.250376    10.457336     0.785678   \n",
       "min     -38.000000     0.000000     0.000000    23.700000     0.000000   \n",
       "25%       8.500000     0.700000     1.000000    65.000000     0.500000   \n",
       "50%      19.400000     1.200000     1.700000    71.500000     0.900000   \n",
       "75%      30.250000     1.900000     2.600000    78.000000     1.500000   \n",
       "max      73.800000     7.800000     9.800000   127.100000     6.900000   \n",
       "\n",
       "              DREB          REB          AST          STL          BLK  \\\n",
       "count  3799.000000  3799.000000  3799.000000  3799.000000  3799.000000   \n",
       "mean      2.179495     3.275783     1.636483     0.653593     0.257726   \n",
       "std       1.371935     2.070646     1.335496     0.410573     0.639660   \n",
       "min       0.200000     0.300000     0.000000     0.000000    -7.100000   \n",
       "25%       1.200000     1.800000     0.600000     0.400000     0.100000   \n",
       "50%       1.900000     2.800000     1.300000     0.600000     0.200000   \n",
       "75%       2.900000     4.300000     2.300000     0.900000     0.400000   \n",
       "max      12.000000    18.500000     9.000000     2.700000    14.800000   \n",
       "\n",
       "               TOV  \n",
       "count  3799.000000  \n",
       "mean      1.257910  \n",
       "std       0.712449  \n",
       "min       0.100000  \n",
       "25%       0.700000  \n",
       "50%       1.100000  \n",
       "75%       1.600000  \n",
       "max       5.200000  "
      ],
      "text/html": "<div>\n<style scoped>\n    .dataframe tbody tr th:only-of-type {\n        vertical-align: middle;\n    }\n\n    .dataframe tbody tr th {\n        vertical-align: top;\n    }\n\n    .dataframe thead th {\n        text-align: right;\n    }\n</style>\n<table border=\"1\" class=\"dataframe\">\n  <thead>\n    <tr style=\"text-align: right;\">\n      <th></th>\n      <th>Id_old</th>\n      <th>Id</th>\n      <th>GP</th>\n      <th>MIN</th>\n      <th>PTS</th>\n      <th>FGM</th>\n      <th>FGA</th>\n      <th>FG%</th>\n      <th>3P Made</th>\n      <th>3PA</th>\n      <th>3P%</th>\n      <th>FTM</th>\n      <th>FTA</th>\n      <th>FT%</th>\n      <th>OREB</th>\n      <th>DREB</th>\n      <th>REB</th>\n      <th>AST</th>\n      <th>STL</th>\n      <th>BLK</th>\n      <th>TOV</th>\n    </tr>\n  </thead>\n  <tbody>\n    <tr>\n      <th>count</th>\n      <td>3799.000000</td>\n      <td>3799.000000</td>\n      <td>3799.000000</td>\n      <td>3799.000000</td>\n      <td>3799.000000</td>\n      <td>3799.000000</td>\n      <td>3799.000000</td>\n      <td>3799.000000</td>\n      <td>3799.000000</td>\n      <td>3799.000000</td>\n      <td>3799.000000</td>\n      <td>3799.000000</td>\n      <td>3799.000000</td>\n      <td>3799.000000</td>\n      <td>3799.000000</td>\n      <td>3799.000000</td>\n      <td>3799.000000</td>\n      <td>3799.000000</td>\n      <td>3799.000000</td>\n      <td>3799.000000</td>\n      <td>3799.000000</td>\n    </tr>\n    <tr>\n      <th>mean</th>\n      <td>7010.614109</td>\n      <td>1899.000000</td>\n      <td>62.853909</td>\n      <td>18.650224</td>\n      <td>7.328034</td>\n      <td>2.835404</td>\n      <td>6.302580</td>\n      <td>44.599079</td>\n      <td>0.255962</td>\n      <td>0.796920</td>\n      <td>19.234746</td>\n      <td>1.399842</td>\n      <td>1.953567</td>\n      <td>71.612924</td>\n      <td>1.096025</td>\n      <td>2.179495</td>\n      <td>3.275783</td>\n      <td>1.636483</td>\n      <td>0.653593</td>\n      <td>0.257726</td>\n      <td>1.257910</td>\n    </tr>\n    <tr>\n      <th>std</th>\n      <td>3954.173641</td>\n      <td>1096.821164</td>\n      <td>17.151740</td>\n      <td>8.727259</td>\n      <td>4.294724</td>\n      <td>1.688427</td>\n      <td>3.579221</td>\n      <td>6.040168</td>\n      <td>0.380987</td>\n      <td>1.052862</td>\n      <td>15.968989</td>\n      <td>0.926140</td>\n      <td>1.250376</td>\n      <td>10.457336</td>\n      <td>0.785678</td>\n      <td>1.371935</td>\n      <td>2.070646</td>\n      <td>1.335496</td>\n      <td>0.410573</td>\n      <td>0.639660</td>\n      <td>0.712449</td>\n    </tr>\n    <tr>\n      <th>min</th>\n      <td>1.000000</td>\n      <td>0.000000</td>\n      <td>6.000000</td>\n      <td>3.700000</td>\n      <td>0.700000</td>\n      <td>0.300000</td>\n      <td>0.800000</td>\n      <td>25.100000</td>\n      <td>-1.000000</td>\n      <td>-2.700000</td>\n      <td>-38.000000</td>\n      <td>0.000000</td>\n      <td>0.000000</td>\n      <td>23.700000</td>\n      <td>0.000000</td>\n      <td>0.200000</td>\n      <td>0.300000</td>\n      <td>0.000000</td>\n      <td>0.000000</td>\n      <td>-7.100000</td>\n      <td>0.100000</td>\n    </tr>\n    <tr>\n      <th>25%</th>\n      <td>3644.000000</td>\n      <td>949.500000</td>\n      <td>51.000000</td>\n      <td>12.200000</td>\n      <td>4.200000</td>\n      <td>1.600000</td>\n      <td>3.700000</td>\n      <td>40.500000</td>\n      <td>0.000000</td>\n      <td>0.100000</td>\n      <td>8.500000</td>\n      <td>0.700000</td>\n      <td>1.000000</td>\n      <td>65.000000</td>\n      <td>0.500000</td>\n      <td>1.200000</td>\n      <td>1.800000</td>\n      <td>0.600000</td>\n      <td>0.400000</td>\n      <td>0.100000</td>\n      <td>0.700000</td>\n    </tr>\n    <tr>\n      <th>50%</th>\n      <td>7062.000000</td>\n      <td>1899.000000</td>\n      <td>63.000000</td>\n      <td>17.000000</td>\n      <td>6.400000</td>\n      <td>2.500000</td>\n      <td>5.500000</td>\n      <td>44.600000</td>\n      <td>0.300000</td>\n      <td>0.800000</td>\n      <td>19.400000</td>\n      <td>1.200000</td>\n      <td>1.700000</td>\n      <td>71.500000</td>\n      <td>0.900000</td>\n      <td>1.900000</td>\n      <td>2.800000</td>\n      <td>1.300000</td>\n      <td>0.600000</td>\n      <td>0.200000</td>\n      <td>1.100000</td>\n    </tr>\n    <tr>\n      <th>75%</th>\n      <td>10402.500000</td>\n      <td>2848.500000</td>\n      <td>74.000000</td>\n      <td>23.300000</td>\n      <td>9.400000</td>\n      <td>3.700000</td>\n      <td>8.100000</td>\n      <td>48.500000</td>\n      <td>0.500000</td>\n      <td>1.500000</td>\n      <td>30.250000</td>\n      <td>1.900000</td>\n      <td>2.600000</td>\n      <td>78.000000</td>\n      <td>1.500000</td>\n      <td>2.900000</td>\n      <td>4.300000</td>\n      <td>2.300000</td>\n      <td>0.900000</td>\n      <td>0.400000</td>\n      <td>1.600000</td>\n    </tr>\n    <tr>\n      <th>max</th>\n      <td>13792.000000</td>\n      <td>3798.000000</td>\n      <td>126.000000</td>\n      <td>68.000000</td>\n      <td>33.000000</td>\n      <td>13.400000</td>\n      <td>26.200000</td>\n      <td>74.600000</td>\n      <td>1.600000</td>\n      <td>4.300000</td>\n      <td>73.800000</td>\n      <td>7.800000</td>\n      <td>9.800000</td>\n      <td>127.100000</td>\n      <td>6.900000</td>\n      <td>12.000000</td>\n      <td>18.500000</td>\n      <td>9.000000</td>\n      <td>2.700000</td>\n      <td>14.800000</td>\n      <td>5.200000</td>\n    </tr>\n  </tbody>\n</table>\n</div>"
     },
     "metadata": {},
     "execution_count": 4
    }
   ],
   "source": [
    "df.describe(include='all')"
   ]
  },
  {
   "source": [
    "## Data Quality Concerns\n",
    "- GP, 3PM, 3PA, 3p%, FT%, BLK have negative value as minimum - **Convert to absolute value** - Done\n",
    "- There are potential outliers in the value between 75% mark and MAX is huge jump across all features\n",
    "- Check if all made value is smaller than attempt value\n",
    "- All % values are bit off and not close to Made/attempt - **Consider dropping these fields or recreate them** - Done\n",
    "- BLK has outliers - **Fix it or drop these**\n",
    "- Use ensemble approach - https://scikit-learn.org/stable/modules/generated/sklearn.ensemble.VotingClassifier.html build 25 random weak regressors and let them vote on the prediction\n",
    "- Use **cross-validation** to fully utilize the whole training set\n",
    "- 3PA and FTA has 0 value - Need to ensure 3PM and FTM are also 0 in these cases\n",
    "- Split dataset and use different models for each set\n",
    "    - GP < 30 ... Overfitting\n",
    "    - GP > 30 ... Overfitting\n",
    "    \n",
    "- Target the concept of ROC, set threshold and convert high and low probability to 1 and 0, and leave the grey area as float - Doesn't do much\n",
    "- Convert GP and MIN to be catagorical data like small, medium and large, then use one-hot encoding or 1~5 (This takes away the linear relationship and focus on what's important) - **Having all features help with ROC score**\n",
    "- ROC plot to see if the problem or confusion map to further understand the problem\n",
    "- Rip out outliers\n"
   ],
   "cell_type": "markdown",
   "metadata": {}
  },
  {
   "source": [
    "## Featureunion - Same set of data being run in parallel   \n",
    "- It can convert/derive original features into new features (the prediction result - multiple estimators)\n",
    "- Then use these new features to run an estimator against ground truth to form ensemble\n",
    "- This brings the best out of estimator collection\n",
    "\n",
    "## Pipeline\n",
    "- Define shared steps as pipeline\n",
    "- Include pipeline within a pipeline for simple reference and reuse\n",
    "- Then have evaluation to take model/pipeline as input for output and scoring\n",
    "- Try outputting pipeline as artifacts for reuse"
   ],
   "cell_type": "markdown",
   "metadata": {}
  }
 ]
}