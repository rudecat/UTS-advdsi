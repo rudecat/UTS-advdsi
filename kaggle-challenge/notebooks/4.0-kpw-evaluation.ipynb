{
 "metadata": {
  "language_info": {
   "codemirror_mode": {
    "name": "ipython",
    "version": 3
   },
   "file_extension": ".py",
   "mimetype": "text/x-python",
   "name": "python",
   "nbconvert_exporter": "python",
   "pygments_lexer": "ipython3",
   "version": "3.9.1-final"
  },
  "orig_nbformat": 2,
  "kernelspec": {
   "name": "python3",
   "display_name": "Python 3",
   "language": "python"
  }
 },
 "nbformat": 4,
 "nbformat_minor": 2,
 "cells": [
  {
   "cell_type": "code",
   "execution_count": 1,
   "metadata": {},
   "outputs": [],
   "source": [
    "import joblib\n",
    "import numpy as np\n",
    "import pandas as pd"
   ]
  },
  {
   "cell_type": "code",
   "execution_count": 2,
   "metadata": {},
   "outputs": [
    {
     "output_type": "execute_result",
     "data": {
      "text/plain": [
       "LogisticRegression()"
      ]
     },
     "metadata": {},
     "execution_count": 2
    }
   ],
   "source": [
    "model = joblib.load(\"../models/kpw_best_model\")\n",
    "model"
   ]
  },
  {
   "cell_type": "code",
   "execution_count": 3,
   "metadata": {},
   "outputs": [
    {
     "output_type": "execute_result",
     "data": {
      "text/plain": [
       "array([[0.44166667, 0.09612403, 0.09580838, ..., 1.        , 0.        ,\n",
       "        0.        ],\n",
       "       [0.33333333, 0.25426357, 0.27844311, ..., 1.        , 0.        ,\n",
       "        1.        ],\n",
       "       [0.65833333, 0.48062016, 0.31437126, ..., 0.        , 1.        ,\n",
       "        0.        ],\n",
       "       ...,\n",
       "       [0.41666667, 0.10852713, 0.03892216, ..., 1.        , 0.        ,\n",
       "        0.        ],\n",
       "       [0.71666667, 0.54883721, 0.41017964, ..., 0.        , 1.        ,\n",
       "        0.        ],\n",
       "       [0.43333333, 0.14108527, 0.06586826, ..., 1.        , 0.        ,\n",
       "        0.        ]])"
      ]
     },
     "metadata": {},
     "execution_count": 3
    }
   ],
   "source": [
    "X_test = joblib.load(\"../data/processed/X_test\")\n",
    "X_test"
   ]
  },
  {
   "cell_type": "code",
   "execution_count": 4,
   "metadata": {},
   "outputs": [
    {
     "output_type": "execute_result",
     "data": {
      "text/plain": [
       "        Id\n",
       "0        0\n",
       "1        1\n",
       "2        2\n",
       "3        3\n",
       "4        4\n",
       "...    ...\n",
       "3794  3794\n",
       "3795  3795\n",
       "3796  3796\n",
       "3797  3797\n",
       "3798  3798\n",
       "\n",
       "[3799 rows x 1 columns]"
      ],
      "text/html": "<div>\n<style scoped>\n    .dataframe tbody tr th:only-of-type {\n        vertical-align: middle;\n    }\n\n    .dataframe tbody tr th {\n        vertical-align: top;\n    }\n\n    .dataframe thead th {\n        text-align: right;\n    }\n</style>\n<table border=\"1\" class=\"dataframe\">\n  <thead>\n    <tr style=\"text-align: right;\">\n      <th></th>\n      <th>Id</th>\n    </tr>\n  </thead>\n  <tbody>\n    <tr>\n      <th>0</th>\n      <td>0</td>\n    </tr>\n    <tr>\n      <th>1</th>\n      <td>1</td>\n    </tr>\n    <tr>\n      <th>2</th>\n      <td>2</td>\n    </tr>\n    <tr>\n      <th>3</th>\n      <td>3</td>\n    </tr>\n    <tr>\n      <th>4</th>\n      <td>4</td>\n    </tr>\n    <tr>\n      <th>...</th>\n      <td>...</td>\n    </tr>\n    <tr>\n      <th>3794</th>\n      <td>3794</td>\n    </tr>\n    <tr>\n      <th>3795</th>\n      <td>3795</td>\n    </tr>\n    <tr>\n      <th>3796</th>\n      <td>3796</td>\n    </tr>\n    <tr>\n      <th>3797</th>\n      <td>3797</td>\n    </tr>\n    <tr>\n      <th>3798</th>\n      <td>3798</td>\n    </tr>\n  </tbody>\n</table>\n<p>3799 rows × 1 columns</p>\n</div>"
     },
     "metadata": {},
     "execution_count": 4
    }
   ],
   "source": [
    "X_test_id = joblib.load(\"../data/processed/X_test_id\")\n",
    "X_test_id"
   ]
  },
  {
   "cell_type": "code",
   "execution_count": 5,
   "metadata": {},
   "outputs": [],
   "source": [
    "from sklearn.linear_model import LogisticRegression\n",
    "def generatePrediction(model):\n",
    "    # If it's logistic regression, use predict_proba\n",
    "    if isinstance(model, LogisticRegression):\n",
    "        y_pred_test = model.predict_proba(X_test)[:,-1]\n",
    "    else:\n",
    "        y_pred_test = model.predict(X_test)\n",
    "\n",
    "    # sureOne = np.vectorize(lambda x: 1 if x > 0.95 else x )\n",
    "    # sureZero = np.vectorize(lambda x: 0 if x < 0.6 else x )\n",
    "\n",
    "    # y_pred_test = sureOne(y_pred_test)\n",
    "    # y_pred_test = sureZero(y_pred_test)\n",
    "\n",
    "    y_pred_test.shape=[3799,1]\n",
    "    np.savetxt(\"../data/processed/kpw-best-submission.csv\", y_pred_test, delimiter=\",\" , fmt='%4f', header=\"TARGET_5Yrs_Prob\")\n",
    "\n",
    "generatePrediction(model)"
   ]
  },
  {
   "cell_type": "code",
   "execution_count": 6,
   "metadata": {},
   "outputs": [],
   "source": [
    "df_test = pd.read_csv(\"../data/raw/test.csv\")\n",
    "df_pred = pd.read_csv(\"../data/processed/kpw-best-submission.csv\")"
   ]
  },
  {
   "cell_type": "code",
   "execution_count": 7,
   "metadata": {},
   "outputs": [],
   "source": [
    "df_test_id = df_test.iloc[:,1:2]\n"
   ]
  },
  {
   "cell_type": "code",
   "execution_count": 8,
   "metadata": {},
   "outputs": [
    {
     "output_type": "stream",
     "name": "stdout",
     "text": [
      "<class 'pandas.core.frame.DataFrame'>\nRangeIndex: 3799 entries, 0 to 3798\nData columns (total 1 columns):\n #   Column  Non-Null Count  Dtype\n---  ------  --------------  -----\n 0   Id      3799 non-null   int64\ndtypes: int64(1)\nmemory usage: 29.8 KB\n"
     ]
    }
   ],
   "source": [
    "df_test_id.info()"
   ]
  },
  {
   "cell_type": "code",
   "execution_count": 9,
   "metadata": {},
   "outputs": [
    {
     "output_type": "stream",
     "name": "stdout",
     "text": [
      "<class 'pandas.core.frame.DataFrame'>\nRangeIndex: 3799 entries, 0 to 3798\nData columns (total 1 columns):\n #   Column              Non-Null Count  Dtype  \n---  ------              --------------  -----  \n 0   # TARGET_5Yrs_Prob  3799 non-null   float64\ndtypes: float64(1)\nmemory usage: 29.8 KB\n"
     ]
    }
   ],
   "source": [
    "df_pred.info()"
   ]
  },
  {
   "cell_type": "code",
   "execution_count": 10,
   "metadata": {},
   "outputs": [],
   "source": [
    "df_test_id['TARGET_5Yrs'] = df_pred\n",
    "df_test_id.to_csv('../data/processed/kpw-final-submission.csv',index=False)"
   ]
  }
 ]
}