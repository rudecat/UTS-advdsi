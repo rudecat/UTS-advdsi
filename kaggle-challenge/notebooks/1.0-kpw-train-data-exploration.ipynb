{
 "metadata": {
  "language_info": {
   "codemirror_mode": {
    "name": "ipython",
    "version": 3
   },
   "file_extension": ".py",
   "mimetype": "text/x-python",
   "name": "python",
   "nbconvert_exporter": "python",
   "pygments_lexer": "ipython3",
   "version": "3.9.1-final"
  },
  "orig_nbformat": 2,
  "kernelspec": {
   "name": "python3",
   "display_name": "Python 3",
   "language": "python"
  }
 },
 "nbformat": 4,
 "nbformat_minor": 2,
 "cells": [
  {
   "cell_type": "code",
   "execution_count": 1,
   "metadata": {},
   "outputs": [],
   "source": [
    "import pandas as pd\n",
    "pd.set_option('display.max_columns', None)"
   ]
  },
  {
   "cell_type": "code",
   "execution_count": 2,
   "metadata": {},
   "outputs": [],
   "source": [
    "df = pd.read_csv(\"../data/raw/train.csv\")"
   ]
  },
  {
   "cell_type": "code",
   "execution_count": 3,
   "metadata": {},
   "outputs": [
    {
     "output_type": "stream",
     "name": "stdout",
     "text": [
      "<class 'pandas.core.frame.DataFrame'>\nRangeIndex: 8000 entries, 0 to 7999\nData columns (total 22 columns):\n #   Column       Non-Null Count  Dtype  \n---  ------       --------------  -----  \n 0   Id_old       8000 non-null   int64  \n 1   Id           8000 non-null   int64  \n 2   GP           8000 non-null   int64  \n 3   MIN          8000 non-null   float64\n 4   PTS          8000 non-null   float64\n 5   FGM          8000 non-null   float64\n 6   FGA          8000 non-null   float64\n 7   FG%          8000 non-null   float64\n 8   3P Made      8000 non-null   float64\n 9   3PA          8000 non-null   float64\n 10  3P%          8000 non-null   float64\n 11  FTM          8000 non-null   float64\n 12  FTA          8000 non-null   float64\n 13  FT%          8000 non-null   float64\n 14  OREB         8000 non-null   float64\n 15  DREB         8000 non-null   float64\n 16  REB          8000 non-null   float64\n 17  AST          8000 non-null   float64\n 18  STL          8000 non-null   float64\n 19  BLK          8000 non-null   float64\n 20  TOV          8000 non-null   float64\n 21  TARGET_5Yrs  8000 non-null   int64  \ndtypes: float64(18), int64(4)\nmemory usage: 1.3 MB\n"
     ]
    }
   ],
   "source": [
    "df.info()"
   ]
  },
  {
   "source": [
    "No non-null and all values are numeric"
   ],
   "cell_type": "markdown",
   "metadata": {}
  },
  {
   "cell_type": "code",
   "execution_count": 4,
   "metadata": {},
   "outputs": [
    {
     "output_type": "execute_result",
     "data": {
      "text/plain": [
       "             Id_old           Id           GP          MIN          PTS  \\\n",
       "count   8000.000000   8000.00000  8000.000000  8000.000000  8000.000000   \n",
       "mean    6856.971000   7798.50000    62.777875    18.576662     7.267088   \n",
       "std     3977.447579   2309.54541    17.118774     8.935263     4.318732   \n",
       "min        4.000000   3799.00000    -8.000000     2.900000     0.800000   \n",
       "25%     3413.750000   5798.75000    51.000000    12.000000     4.100000   \n",
       "50%     6787.500000   7798.50000    63.000000    16.800000     6.300000   \n",
       "75%    10299.250000   9798.25000    74.000000    23.500000     9.500000   \n",
       "max    13798.000000  11798.00000   123.000000    73.800000    34.200000   \n",
       "\n",
       "               FGM          FGA          FG%      3P Made          3PA  \\\n",
       "count  8000.000000  8000.000000  8000.000000  8000.000000  8000.000000   \n",
       "mean      2.807037     6.231212    44.608900     0.264525     0.816562   \n",
       "std       1.693373     3.584559     6.155453     0.384093     1.060964   \n",
       "min       0.300000     0.800000    21.300000    -1.100000    -3.100000   \n",
       "25%       1.600000     3.600000    40.400000     0.000000     0.100000   \n",
       "50%       2.400000     5.400000    44.400000     0.300000     0.800000   \n",
       "75%       3.700000     8.100000    48.700000     0.500000     1.500000   \n",
       "max      13.100000    28.900000    67.200000     1.700000     4.700000   \n",
       "\n",
       "               3P%          FTM          FTA          FT%         OREB  \\\n",
       "count  8000.000000  8000.000000  8000.000000  8000.000000  8000.000000   \n",
       "mean     19.583700     1.392525     1.947788    71.365825     1.077838   \n",
       "std      16.003155     0.926153     1.252352    10.430447     0.785670   \n",
       "min     -38.500000     0.000000     0.000000   -13.300000     0.000000   \n",
       "25%       8.400000     0.700000     1.000000    65.000000     0.500000   \n",
       "50%      19.500000     1.200000     1.700000    71.400000     0.900000   \n",
       "75%      30.600000     1.900000     2.600000    77.500000     1.500000   \n",
       "max      82.100000     8.100000    11.100000   168.900000     5.500000   \n",
       "\n",
       "              DREB          REB          AST          STL          BLK  \\\n",
       "count  8000.000000  8000.000000  8000.000000  8000.000000  8000.000000   \n",
       "mean      2.168500     3.245300     1.624513     0.648687     0.245212   \n",
       "std       1.392224     2.085154     1.355986     0.407626     0.821037   \n",
       "min       0.200000     0.300000     0.000000     0.000000   -17.900000   \n",
       "25%       1.100000     1.700000     0.700000     0.300000     0.100000   \n",
       "50%       1.900000     2.800000     1.300000     0.600000     0.200000   \n",
       "75%       2.900000     4.300000     2.200000     0.900000     0.400000   \n",
       "max      11.000000    15.900000    12.800000     3.600000    18.900000   \n",
       "\n",
       "               TOV  TARGET_5Yrs  \n",
       "count  8000.000000  8000.000000  \n",
       "mean      1.257763     0.833625  \n",
       "std       0.723270     0.372440  \n",
       "min       0.100000     0.000000  \n",
       "25%       0.700000     1.000000  \n",
       "50%       1.100000     1.000000  \n",
       "75%       1.600000     1.000000  \n",
       "max       5.300000     1.000000  "
      ],
      "text/html": "<div>\n<style scoped>\n    .dataframe tbody tr th:only-of-type {\n        vertical-align: middle;\n    }\n\n    .dataframe tbody tr th {\n        vertical-align: top;\n    }\n\n    .dataframe thead th {\n        text-align: right;\n    }\n</style>\n<table border=\"1\" class=\"dataframe\">\n  <thead>\n    <tr style=\"text-align: right;\">\n      <th></th>\n      <th>Id_old</th>\n      <th>Id</th>\n      <th>GP</th>\n      <th>MIN</th>\n      <th>PTS</th>\n      <th>FGM</th>\n      <th>FGA</th>\n      <th>FG%</th>\n      <th>3P Made</th>\n      <th>3PA</th>\n      <th>3P%</th>\n      <th>FTM</th>\n      <th>FTA</th>\n      <th>FT%</th>\n      <th>OREB</th>\n      <th>DREB</th>\n      <th>REB</th>\n      <th>AST</th>\n      <th>STL</th>\n      <th>BLK</th>\n      <th>TOV</th>\n      <th>TARGET_5Yrs</th>\n    </tr>\n  </thead>\n  <tbody>\n    <tr>\n      <th>count</th>\n      <td>8000.000000</td>\n      <td>8000.00000</td>\n      <td>8000.000000</td>\n      <td>8000.000000</td>\n      <td>8000.000000</td>\n      <td>8000.000000</td>\n      <td>8000.000000</td>\n      <td>8000.000000</td>\n      <td>8000.000000</td>\n      <td>8000.000000</td>\n      <td>8000.000000</td>\n      <td>8000.000000</td>\n      <td>8000.000000</td>\n      <td>8000.000000</td>\n      <td>8000.000000</td>\n      <td>8000.000000</td>\n      <td>8000.000000</td>\n      <td>8000.000000</td>\n      <td>8000.000000</td>\n      <td>8000.000000</td>\n      <td>8000.000000</td>\n      <td>8000.000000</td>\n    </tr>\n    <tr>\n      <th>mean</th>\n      <td>6856.971000</td>\n      <td>7798.50000</td>\n      <td>62.777875</td>\n      <td>18.576662</td>\n      <td>7.267088</td>\n      <td>2.807037</td>\n      <td>6.231212</td>\n      <td>44.608900</td>\n      <td>0.264525</td>\n      <td>0.816562</td>\n      <td>19.583700</td>\n      <td>1.392525</td>\n      <td>1.947788</td>\n      <td>71.365825</td>\n      <td>1.077838</td>\n      <td>2.168500</td>\n      <td>3.245300</td>\n      <td>1.624513</td>\n      <td>0.648687</td>\n      <td>0.245212</td>\n      <td>1.257763</td>\n      <td>0.833625</td>\n    </tr>\n    <tr>\n      <th>std</th>\n      <td>3977.447579</td>\n      <td>2309.54541</td>\n      <td>17.118774</td>\n      <td>8.935263</td>\n      <td>4.318732</td>\n      <td>1.693373</td>\n      <td>3.584559</td>\n      <td>6.155453</td>\n      <td>0.384093</td>\n      <td>1.060964</td>\n      <td>16.003155</td>\n      <td>0.926153</td>\n      <td>1.252352</td>\n      <td>10.430447</td>\n      <td>0.785670</td>\n      <td>1.392224</td>\n      <td>2.085154</td>\n      <td>1.355986</td>\n      <td>0.407626</td>\n      <td>0.821037</td>\n      <td>0.723270</td>\n      <td>0.372440</td>\n    </tr>\n    <tr>\n      <th>min</th>\n      <td>4.000000</td>\n      <td>3799.00000</td>\n      <td>-8.000000</td>\n      <td>2.900000</td>\n      <td>0.800000</td>\n      <td>0.300000</td>\n      <td>0.800000</td>\n      <td>21.300000</td>\n      <td>-1.100000</td>\n      <td>-3.100000</td>\n      <td>-38.500000</td>\n      <td>0.000000</td>\n      <td>0.000000</td>\n      <td>-13.300000</td>\n      <td>0.000000</td>\n      <td>0.200000</td>\n      <td>0.300000</td>\n      <td>0.000000</td>\n      <td>0.000000</td>\n      <td>-17.900000</td>\n      <td>0.100000</td>\n      <td>0.000000</td>\n    </tr>\n    <tr>\n      <th>25%</th>\n      <td>3413.750000</td>\n      <td>5798.75000</td>\n      <td>51.000000</td>\n      <td>12.000000</td>\n      <td>4.100000</td>\n      <td>1.600000</td>\n      <td>3.600000</td>\n      <td>40.400000</td>\n      <td>0.000000</td>\n      <td>0.100000</td>\n      <td>8.400000</td>\n      <td>0.700000</td>\n      <td>1.000000</td>\n      <td>65.000000</td>\n      <td>0.500000</td>\n      <td>1.100000</td>\n      <td>1.700000</td>\n      <td>0.700000</td>\n      <td>0.300000</td>\n      <td>0.100000</td>\n      <td>0.700000</td>\n      <td>1.000000</td>\n    </tr>\n    <tr>\n      <th>50%</th>\n      <td>6787.500000</td>\n      <td>7798.50000</td>\n      <td>63.000000</td>\n      <td>16.800000</td>\n      <td>6.300000</td>\n      <td>2.400000</td>\n      <td>5.400000</td>\n      <td>44.400000</td>\n      <td>0.300000</td>\n      <td>0.800000</td>\n      <td>19.500000</td>\n      <td>1.200000</td>\n      <td>1.700000</td>\n      <td>71.400000</td>\n      <td>0.900000</td>\n      <td>1.900000</td>\n      <td>2.800000</td>\n      <td>1.300000</td>\n      <td>0.600000</td>\n      <td>0.200000</td>\n      <td>1.100000</td>\n      <td>1.000000</td>\n    </tr>\n    <tr>\n      <th>75%</th>\n      <td>10299.250000</td>\n      <td>9798.25000</td>\n      <td>74.000000</td>\n      <td>23.500000</td>\n      <td>9.500000</td>\n      <td>3.700000</td>\n      <td>8.100000</td>\n      <td>48.700000</td>\n      <td>0.500000</td>\n      <td>1.500000</td>\n      <td>30.600000</td>\n      <td>1.900000</td>\n      <td>2.600000</td>\n      <td>77.500000</td>\n      <td>1.500000</td>\n      <td>2.900000</td>\n      <td>4.300000</td>\n      <td>2.200000</td>\n      <td>0.900000</td>\n      <td>0.400000</td>\n      <td>1.600000</td>\n      <td>1.000000</td>\n    </tr>\n    <tr>\n      <th>max</th>\n      <td>13798.000000</td>\n      <td>11798.00000</td>\n      <td>123.000000</td>\n      <td>73.800000</td>\n      <td>34.200000</td>\n      <td>13.100000</td>\n      <td>28.900000</td>\n      <td>67.200000</td>\n      <td>1.700000</td>\n      <td>4.700000</td>\n      <td>82.100000</td>\n      <td>8.100000</td>\n      <td>11.100000</td>\n      <td>168.900000</td>\n      <td>5.500000</td>\n      <td>11.000000</td>\n      <td>15.900000</td>\n      <td>12.800000</td>\n      <td>3.600000</td>\n      <td>18.900000</td>\n      <td>5.300000</td>\n      <td>1.000000</td>\n    </tr>\n  </tbody>\n</table>\n</div>"
     },
     "metadata": {},
     "execution_count": 4
    }
   ],
   "source": [
    "df.describe(include='all')"
   ]
  },
  {
   "source": [
    "## Data Quality Concerns\n",
    "- GP, 3PM, 3PA, 3p%, FT%, BLK have negative value as minimum - **Convert to absolute value**\n",
    "- There are potential outliers in the value between 75% mark and MAX is huge jump across all features\n",
    "- Check if all made value is smaller than attempt value\n",
    "- All % values are bit off and not close to Made/attempt - **Consider dropping these fields or recreate them**\n",
    "- BLK has outliers - **Fix it or drop these**\n",
    "- "
   ],
   "cell_type": "markdown",
   "metadata": {}
  },
  {
   "cell_type": "code",
   "execution_count": 5,
   "metadata": {},
   "outputs": [
    {
     "output_type": "execute_result",
     "data": {
      "text/plain": [
       "1    6669\n",
       "0    1331\n",
       "Name: TARGET_5Yrs, dtype: int64"
      ]
     },
     "metadata": {},
     "execution_count": 5
    }
   ],
   "source": [
    "df[\"TARGET_5Yrs\"].value_counts()"
   ]
  },
  {
   "source": [
    "## Imbalanced Data\n",
    "The ground truth is quite unbalanced. Need to keep in mind in model selection and evaluation approach"
   ],
   "cell_type": "markdown",
   "metadata": {}
  },
  {
   "cell_type": "code",
   "execution_count": 6,
   "metadata": {},
   "outputs": [
    {
     "output_type": "execute_result",
     "data": {
      "text/plain": [
       "      Id_old     Id   GP   MIN   PTS  FGM   FGA   FG%  3P Made  3PA   3P%  \\\n",
       "12     13144   3811   41   9.8   2.3  0.9   2.3  37.9     -0.4 -0.6  -4.7   \n",
       "23      8590   3822   71  10.1   4.0  1.4   3.0  47.7      0.4  0.7  31.4   \n",
       "25      3556   3824   34  10.5   3.3  1.2   2.7  43.6      0.0  0.0  23.4   \n",
       "34       709   3833   58  12.5   3.3  1.2   3.1  40.9      0.2  0.7  17.3   \n",
       "44     12340   3843  106  45.0  20.0  7.5  14.7  52.6      0.4  1.2  21.5   \n",
       "...      ...    ...  ...   ...   ...  ...   ...   ...      ...  ...   ...   \n",
       "7960   13785  11759   49  17.2   6.1  2.4   6.1  39.1      0.7  1.9  37.1   \n",
       "7966   11565  11765   26   6.3   1.7  0.6   1.7  38.2      0.2  0.6   2.4   \n",
       "7972   13636  11771   63   4.5   1.7  0.6   1.3  47.4     -0.5 -1.1   1.7   \n",
       "7989    3145  11788   57  27.8  13.9  5.0  10.7  46.6      0.4  1.2  12.3   \n",
       "7994    5460  11793   65  22.2   6.9  2.8   6.9  40.5      0.5  1.5  36.6   \n",
       "\n",
       "      FTM  FTA   FT%  OREB  DREB  REB  AST  STL  BLK  TOV  TARGET_5Yrs  \n",
       "12    0.9  1.3  64.7   1.5   1.9  3.5  0.2  0.3  0.4  0.4            0  \n",
       "23    1.3  1.6  84.3   0.3   0.5  0.8  1.8  0.5 -0.2  1.6            0  \n",
       "25    1.2  1.7  64.9   1.5   2.4  3.8  0.5  0.2  0.6  0.6            0  \n",
       "34    0.9  1.5  55.1   0.2   0.7  1.0  2.5  0.4  0.1  1.0            0  \n",
       "44    4.6  6.4  71.4   2.6   6.0  9.3  3.5  1.7  0.5  2.5            0  \n",
       "...   ...  ...   ...   ...   ...  ...  ...  ...  ...  ...          ...  \n",
       "7960  0.7  0.7  91.7   0.2   1.1  1.4  2.1  0.3 -1.4  0.7            0  \n",
       "7966  0.3  0.4  71.5   0.3   0.7  1.0  0.2  0.3  0.0  0.4            0  \n",
       "7972  0.7  1.2  62.6   0.9   1.1  2.2  0.0  0.1  0.3  0.4            0  \n",
       "7989  3.7  5.1  72.9   1.0   2.7  3.8  2.2  0.8  0.1  2.5            0  \n",
       "7994  0.8  1.1  62.6   0.2   1.0  1.1  2.8  0.6  0.1  1.3            0  \n",
       "\n",
       "[1331 rows x 22 columns]"
      ],
      "text/html": "<div>\n<style scoped>\n    .dataframe tbody tr th:only-of-type {\n        vertical-align: middle;\n    }\n\n    .dataframe tbody tr th {\n        vertical-align: top;\n    }\n\n    .dataframe thead th {\n        text-align: right;\n    }\n</style>\n<table border=\"1\" class=\"dataframe\">\n  <thead>\n    <tr style=\"text-align: right;\">\n      <th></th>\n      <th>Id_old</th>\n      <th>Id</th>\n      <th>GP</th>\n      <th>MIN</th>\n      <th>PTS</th>\n      <th>FGM</th>\n      <th>FGA</th>\n      <th>FG%</th>\n      <th>3P Made</th>\n      <th>3PA</th>\n      <th>3P%</th>\n      <th>FTM</th>\n      <th>FTA</th>\n      <th>FT%</th>\n      <th>OREB</th>\n      <th>DREB</th>\n      <th>REB</th>\n      <th>AST</th>\n      <th>STL</th>\n      <th>BLK</th>\n      <th>TOV</th>\n      <th>TARGET_5Yrs</th>\n    </tr>\n  </thead>\n  <tbody>\n    <tr>\n      <th>12</th>\n      <td>13144</td>\n      <td>3811</td>\n      <td>41</td>\n      <td>9.8</td>\n      <td>2.3</td>\n      <td>0.9</td>\n      <td>2.3</td>\n      <td>37.9</td>\n      <td>-0.4</td>\n      <td>-0.6</td>\n      <td>-4.7</td>\n      <td>0.9</td>\n      <td>1.3</td>\n      <td>64.7</td>\n      <td>1.5</td>\n      <td>1.9</td>\n      <td>3.5</td>\n      <td>0.2</td>\n      <td>0.3</td>\n      <td>0.4</td>\n      <td>0.4</td>\n      <td>0</td>\n    </tr>\n    <tr>\n      <th>23</th>\n      <td>8590</td>\n      <td>3822</td>\n      <td>71</td>\n      <td>10.1</td>\n      <td>4.0</td>\n      <td>1.4</td>\n      <td>3.0</td>\n      <td>47.7</td>\n      <td>0.4</td>\n      <td>0.7</td>\n      <td>31.4</td>\n      <td>1.3</td>\n      <td>1.6</td>\n      <td>84.3</td>\n      <td>0.3</td>\n      <td>0.5</td>\n      <td>0.8</td>\n      <td>1.8</td>\n      <td>0.5</td>\n      <td>-0.2</td>\n      <td>1.6</td>\n      <td>0</td>\n    </tr>\n    <tr>\n      <th>25</th>\n      <td>3556</td>\n      <td>3824</td>\n      <td>34</td>\n      <td>10.5</td>\n      <td>3.3</td>\n      <td>1.2</td>\n      <td>2.7</td>\n      <td>43.6</td>\n      <td>0.0</td>\n      <td>0.0</td>\n      <td>23.4</td>\n      <td>1.2</td>\n      <td>1.7</td>\n      <td>64.9</td>\n      <td>1.5</td>\n      <td>2.4</td>\n      <td>3.8</td>\n      <td>0.5</td>\n      <td>0.2</td>\n      <td>0.6</td>\n      <td>0.6</td>\n      <td>0</td>\n    </tr>\n    <tr>\n      <th>34</th>\n      <td>709</td>\n      <td>3833</td>\n      <td>58</td>\n      <td>12.5</td>\n      <td>3.3</td>\n      <td>1.2</td>\n      <td>3.1</td>\n      <td>40.9</td>\n      <td>0.2</td>\n      <td>0.7</td>\n      <td>17.3</td>\n      <td>0.9</td>\n      <td>1.5</td>\n      <td>55.1</td>\n      <td>0.2</td>\n      <td>0.7</td>\n      <td>1.0</td>\n      <td>2.5</td>\n      <td>0.4</td>\n      <td>0.1</td>\n      <td>1.0</td>\n      <td>0</td>\n    </tr>\n    <tr>\n      <th>44</th>\n      <td>12340</td>\n      <td>3843</td>\n      <td>106</td>\n      <td>45.0</td>\n      <td>20.0</td>\n      <td>7.5</td>\n      <td>14.7</td>\n      <td>52.6</td>\n      <td>0.4</td>\n      <td>1.2</td>\n      <td>21.5</td>\n      <td>4.6</td>\n      <td>6.4</td>\n      <td>71.4</td>\n      <td>2.6</td>\n      <td>6.0</td>\n      <td>9.3</td>\n      <td>3.5</td>\n      <td>1.7</td>\n      <td>0.5</td>\n      <td>2.5</td>\n      <td>0</td>\n    </tr>\n    <tr>\n      <th>...</th>\n      <td>...</td>\n      <td>...</td>\n      <td>...</td>\n      <td>...</td>\n      <td>...</td>\n      <td>...</td>\n      <td>...</td>\n      <td>...</td>\n      <td>...</td>\n      <td>...</td>\n      <td>...</td>\n      <td>...</td>\n      <td>...</td>\n      <td>...</td>\n      <td>...</td>\n      <td>...</td>\n      <td>...</td>\n      <td>...</td>\n      <td>...</td>\n      <td>...</td>\n      <td>...</td>\n      <td>...</td>\n    </tr>\n    <tr>\n      <th>7960</th>\n      <td>13785</td>\n      <td>11759</td>\n      <td>49</td>\n      <td>17.2</td>\n      <td>6.1</td>\n      <td>2.4</td>\n      <td>6.1</td>\n      <td>39.1</td>\n      <td>0.7</td>\n      <td>1.9</td>\n      <td>37.1</td>\n      <td>0.7</td>\n      <td>0.7</td>\n      <td>91.7</td>\n      <td>0.2</td>\n      <td>1.1</td>\n      <td>1.4</td>\n      <td>2.1</td>\n      <td>0.3</td>\n      <td>-1.4</td>\n      <td>0.7</td>\n      <td>0</td>\n    </tr>\n    <tr>\n      <th>7966</th>\n      <td>11565</td>\n      <td>11765</td>\n      <td>26</td>\n      <td>6.3</td>\n      <td>1.7</td>\n      <td>0.6</td>\n      <td>1.7</td>\n      <td>38.2</td>\n      <td>0.2</td>\n      <td>0.6</td>\n      <td>2.4</td>\n      <td>0.3</td>\n      <td>0.4</td>\n      <td>71.5</td>\n      <td>0.3</td>\n      <td>0.7</td>\n      <td>1.0</td>\n      <td>0.2</td>\n      <td>0.3</td>\n      <td>0.0</td>\n      <td>0.4</td>\n      <td>0</td>\n    </tr>\n    <tr>\n      <th>7972</th>\n      <td>13636</td>\n      <td>11771</td>\n      <td>63</td>\n      <td>4.5</td>\n      <td>1.7</td>\n      <td>0.6</td>\n      <td>1.3</td>\n      <td>47.4</td>\n      <td>-0.5</td>\n      <td>-1.1</td>\n      <td>1.7</td>\n      <td>0.7</td>\n      <td>1.2</td>\n      <td>62.6</td>\n      <td>0.9</td>\n      <td>1.1</td>\n      <td>2.2</td>\n      <td>0.0</td>\n      <td>0.1</td>\n      <td>0.3</td>\n      <td>0.4</td>\n      <td>0</td>\n    </tr>\n    <tr>\n      <th>7989</th>\n      <td>3145</td>\n      <td>11788</td>\n      <td>57</td>\n      <td>27.8</td>\n      <td>13.9</td>\n      <td>5.0</td>\n      <td>10.7</td>\n      <td>46.6</td>\n      <td>0.4</td>\n      <td>1.2</td>\n      <td>12.3</td>\n      <td>3.7</td>\n      <td>5.1</td>\n      <td>72.9</td>\n      <td>1.0</td>\n      <td>2.7</td>\n      <td>3.8</td>\n      <td>2.2</td>\n      <td>0.8</td>\n      <td>0.1</td>\n      <td>2.5</td>\n      <td>0</td>\n    </tr>\n    <tr>\n      <th>7994</th>\n      <td>5460</td>\n      <td>11793</td>\n      <td>65</td>\n      <td>22.2</td>\n      <td>6.9</td>\n      <td>2.8</td>\n      <td>6.9</td>\n      <td>40.5</td>\n      <td>0.5</td>\n      <td>1.5</td>\n      <td>36.6</td>\n      <td>0.8</td>\n      <td>1.1</td>\n      <td>62.6</td>\n      <td>0.2</td>\n      <td>1.0</td>\n      <td>1.1</td>\n      <td>2.8</td>\n      <td>0.6</td>\n      <td>0.1</td>\n      <td>1.3</td>\n      <td>0</td>\n    </tr>\n  </tbody>\n</table>\n<p>1331 rows × 22 columns</p>\n</div>"
     },
     "metadata": {},
     "execution_count": 6
    }
   ],
   "source": [
    "df_min = df.loc[df['TARGET_5Yrs'] == 0]\n",
    "df_min"
   ]
  },
  {
   "cell_type": "code",
   "execution_count": 14,
   "metadata": {},
   "outputs": [
    {
     "output_type": "execute_result",
     "data": {
      "text/plain": [
       "6669"
      ]
     },
     "metadata": {},
     "execution_count": 14
    }
   ],
   "source": [
    "from sklearn.utils import resample\n",
    "df_min = resample(df_min, replace=True, n_samples=6669, random_state=123)\n",
    "len(df_min.index)"
   ]
  },
  {
   "cell_type": "code",
   "execution_count": 17,
   "metadata": {},
   "outputs": [
    {
     "output_type": "execute_result",
     "data": {
      "text/plain": [
       "       Id_old     Id  GP   MIN   PTS  FGM   FGA   FG%  3P Made  3PA   3P%  \\\n",
       "0        2857   8103  42   8.0   2.7  1.0   2.9  34.9      0.5  1.5  22.0   \n",
       "1       11478   7943  74  21.2   3.9  1.5   4.1  39.8      0.5  1.5  33.1   \n",
       "2       10740   5420  73  14.8   6.1  2.4   5.4  43.2      0.2  0.5  14.0   \n",
       "3        4032   8687  38   9.3   2.5  0.9   2.6  36.2      0.7  1.7  25.1   \n",
       "4        7503  10083  47  18.2   5.4  2.0   4.0  49.2     -0.3 -1.0   4.7   \n",
       "...       ...    ...  ..   ...   ...  ...   ...   ...      ...  ...   ...   \n",
       "13333    6126  10647  68  23.5  13.0  5.4   9.9  55.3      0.1  0.1  20.9   \n",
       "13334    7088   4573  39   6.7   2.1  0.7   1.7  40.9      0.4  1.0  28.7   \n",
       "13335    5022  11201  63  11.0   5.7  2.3   5.4  42.0     -0.1 -0.2   5.6   \n",
       "13336    1373   9473  64  16.7   5.5  2.4   4.4  54.2      0.0  0.0  13.0   \n",
       "13337    1042   5748  76  30.5  13.9  5.0  10.1  49.1      0.2  0.9  37.8   \n",
       "\n",
       "       FTM  FTA   FT%  OREB  DREB  REB  AST  STL  BLK  TOV  TARGET_5Yrs  \n",
       "0      0.3  0.5  64.7   0.3   1.2  1.4  0.5  0.2  0.2  0.6            1  \n",
       "1      0.5  0.8  62.2   0.5   2.0  2.6  2.3  0.9  0.5  1.3            1  \n",
       "2      1.4  2.4  55.2   0.9   1.3  2.0  1.2  0.4  0.4  1.0            1  \n",
       "3      0.4  0.5  75.4   0.1   0.7  0.8  2.0  0.6 -1.6  0.6            1  \n",
       "4      1.6  2.3  74.2   1.8   3.5  5.2  1.0  0.7  0.3  1.2            1  \n",
       "...    ...  ...   ...   ...   ...  ...  ...  ...  ...  ...          ...  \n",
       "13333  2.2  3.0  69.0   2.4   2.6  4.9  1.3  0.7  0.3  1.8            0  \n",
       "13334  0.6  0.7  79.6   0.8   0.6  1.3  0.0  0.1  0.2  0.3            0  \n",
       "13335  1.3  1.9  71.5   1.5   1.3  2.5  1.3  0.4  0.2  0.9            0  \n",
       "13336  0.7  1.0  72.3   1.5   1.7  3.2  0.5  0.5  0.3  0.9            0  \n",
       "13337  3.3  4.6  73.6   1.3   4.8  5.9  4.6  1.0  0.3  2.6            0  \n",
       "\n",
       "[13338 rows x 22 columns]"
      ],
      "text/html": "<div>\n<style scoped>\n    .dataframe tbody tr th:only-of-type {\n        vertical-align: middle;\n    }\n\n    .dataframe tbody tr th {\n        vertical-align: top;\n    }\n\n    .dataframe thead th {\n        text-align: right;\n    }\n</style>\n<table border=\"1\" class=\"dataframe\">\n  <thead>\n    <tr style=\"text-align: right;\">\n      <th></th>\n      <th>Id_old</th>\n      <th>Id</th>\n      <th>GP</th>\n      <th>MIN</th>\n      <th>PTS</th>\n      <th>FGM</th>\n      <th>FGA</th>\n      <th>FG%</th>\n      <th>3P Made</th>\n      <th>3PA</th>\n      <th>3P%</th>\n      <th>FTM</th>\n      <th>FTA</th>\n      <th>FT%</th>\n      <th>OREB</th>\n      <th>DREB</th>\n      <th>REB</th>\n      <th>AST</th>\n      <th>STL</th>\n      <th>BLK</th>\n      <th>TOV</th>\n      <th>TARGET_5Yrs</th>\n    </tr>\n  </thead>\n  <tbody>\n    <tr>\n      <th>0</th>\n      <td>2857</td>\n      <td>8103</td>\n      <td>42</td>\n      <td>8.0</td>\n      <td>2.7</td>\n      <td>1.0</td>\n      <td>2.9</td>\n      <td>34.9</td>\n      <td>0.5</td>\n      <td>1.5</td>\n      <td>22.0</td>\n      <td>0.3</td>\n      <td>0.5</td>\n      <td>64.7</td>\n      <td>0.3</td>\n      <td>1.2</td>\n      <td>1.4</td>\n      <td>0.5</td>\n      <td>0.2</td>\n      <td>0.2</td>\n      <td>0.6</td>\n      <td>1</td>\n    </tr>\n    <tr>\n      <th>1</th>\n      <td>11478</td>\n      <td>7943</td>\n      <td>74</td>\n      <td>21.2</td>\n      <td>3.9</td>\n      <td>1.5</td>\n      <td>4.1</td>\n      <td>39.8</td>\n      <td>0.5</td>\n      <td>1.5</td>\n      <td>33.1</td>\n      <td>0.5</td>\n      <td>0.8</td>\n      <td>62.2</td>\n      <td>0.5</td>\n      <td>2.0</td>\n      <td>2.6</td>\n      <td>2.3</td>\n      <td>0.9</td>\n      <td>0.5</td>\n      <td>1.3</td>\n      <td>1</td>\n    </tr>\n    <tr>\n      <th>2</th>\n      <td>10740</td>\n      <td>5420</td>\n      <td>73</td>\n      <td>14.8</td>\n      <td>6.1</td>\n      <td>2.4</td>\n      <td>5.4</td>\n      <td>43.2</td>\n      <td>0.2</td>\n      <td>0.5</td>\n      <td>14.0</td>\n      <td>1.4</td>\n      <td>2.4</td>\n      <td>55.2</td>\n      <td>0.9</td>\n      <td>1.3</td>\n      <td>2.0</td>\n      <td>1.2</td>\n      <td>0.4</td>\n      <td>0.4</td>\n      <td>1.0</td>\n      <td>1</td>\n    </tr>\n    <tr>\n      <th>3</th>\n      <td>4032</td>\n      <td>8687</td>\n      <td>38</td>\n      <td>9.3</td>\n      <td>2.5</td>\n      <td>0.9</td>\n      <td>2.6</td>\n      <td>36.2</td>\n      <td>0.7</td>\n      <td>1.7</td>\n      <td>25.1</td>\n      <td>0.4</td>\n      <td>0.5</td>\n      <td>75.4</td>\n      <td>0.1</td>\n      <td>0.7</td>\n      <td>0.8</td>\n      <td>2.0</td>\n      <td>0.6</td>\n      <td>-1.6</td>\n      <td>0.6</td>\n      <td>1</td>\n    </tr>\n    <tr>\n      <th>4</th>\n      <td>7503</td>\n      <td>10083</td>\n      <td>47</td>\n      <td>18.2</td>\n      <td>5.4</td>\n      <td>2.0</td>\n      <td>4.0</td>\n      <td>49.2</td>\n      <td>-0.3</td>\n      <td>-1.0</td>\n      <td>4.7</td>\n      <td>1.6</td>\n      <td>2.3</td>\n      <td>74.2</td>\n      <td>1.8</td>\n      <td>3.5</td>\n      <td>5.2</td>\n      <td>1.0</td>\n      <td>0.7</td>\n      <td>0.3</td>\n      <td>1.2</td>\n      <td>1</td>\n    </tr>\n    <tr>\n      <th>...</th>\n      <td>...</td>\n      <td>...</td>\n      <td>...</td>\n      <td>...</td>\n      <td>...</td>\n      <td>...</td>\n      <td>...</td>\n      <td>...</td>\n      <td>...</td>\n      <td>...</td>\n      <td>...</td>\n      <td>...</td>\n      <td>...</td>\n      <td>...</td>\n      <td>...</td>\n      <td>...</td>\n      <td>...</td>\n      <td>...</td>\n      <td>...</td>\n      <td>...</td>\n      <td>...</td>\n      <td>...</td>\n    </tr>\n    <tr>\n      <th>13333</th>\n      <td>6126</td>\n      <td>10647</td>\n      <td>68</td>\n      <td>23.5</td>\n      <td>13.0</td>\n      <td>5.4</td>\n      <td>9.9</td>\n      <td>55.3</td>\n      <td>0.1</td>\n      <td>0.1</td>\n      <td>20.9</td>\n      <td>2.2</td>\n      <td>3.0</td>\n      <td>69.0</td>\n      <td>2.4</td>\n      <td>2.6</td>\n      <td>4.9</td>\n      <td>1.3</td>\n      <td>0.7</td>\n      <td>0.3</td>\n      <td>1.8</td>\n      <td>0</td>\n    </tr>\n    <tr>\n      <th>13334</th>\n      <td>7088</td>\n      <td>4573</td>\n      <td>39</td>\n      <td>6.7</td>\n      <td>2.1</td>\n      <td>0.7</td>\n      <td>1.7</td>\n      <td>40.9</td>\n      <td>0.4</td>\n      <td>1.0</td>\n      <td>28.7</td>\n      <td>0.6</td>\n      <td>0.7</td>\n      <td>79.6</td>\n      <td>0.8</td>\n      <td>0.6</td>\n      <td>1.3</td>\n      <td>0.0</td>\n      <td>0.1</td>\n      <td>0.2</td>\n      <td>0.3</td>\n      <td>0</td>\n    </tr>\n    <tr>\n      <th>13335</th>\n      <td>5022</td>\n      <td>11201</td>\n      <td>63</td>\n      <td>11.0</td>\n      <td>5.7</td>\n      <td>2.3</td>\n      <td>5.4</td>\n      <td>42.0</td>\n      <td>-0.1</td>\n      <td>-0.2</td>\n      <td>5.6</td>\n      <td>1.3</td>\n      <td>1.9</td>\n      <td>71.5</td>\n      <td>1.5</td>\n      <td>1.3</td>\n      <td>2.5</td>\n      <td>1.3</td>\n      <td>0.4</td>\n      <td>0.2</td>\n      <td>0.9</td>\n      <td>0</td>\n    </tr>\n    <tr>\n      <th>13336</th>\n      <td>1373</td>\n      <td>9473</td>\n      <td>64</td>\n      <td>16.7</td>\n      <td>5.5</td>\n      <td>2.4</td>\n      <td>4.4</td>\n      <td>54.2</td>\n      <td>0.0</td>\n      <td>0.0</td>\n      <td>13.0</td>\n      <td>0.7</td>\n      <td>1.0</td>\n      <td>72.3</td>\n      <td>1.5</td>\n      <td>1.7</td>\n      <td>3.2</td>\n      <td>0.5</td>\n      <td>0.5</td>\n      <td>0.3</td>\n      <td>0.9</td>\n      <td>0</td>\n    </tr>\n    <tr>\n      <th>13337</th>\n      <td>1042</td>\n      <td>5748</td>\n      <td>76</td>\n      <td>30.5</td>\n      <td>13.9</td>\n      <td>5.0</td>\n      <td>10.1</td>\n      <td>49.1</td>\n      <td>0.2</td>\n      <td>0.9</td>\n      <td>37.8</td>\n      <td>3.3</td>\n      <td>4.6</td>\n      <td>73.6</td>\n      <td>1.3</td>\n      <td>4.8</td>\n      <td>5.9</td>\n      <td>4.6</td>\n      <td>1.0</td>\n      <td>0.3</td>\n      <td>2.6</td>\n      <td>0</td>\n    </tr>\n  </tbody>\n</table>\n<p>13338 rows × 22 columns</p>\n</div>"
     },
     "metadata": {},
     "execution_count": 17
    }
   ],
   "source": []
  }
 ]
}