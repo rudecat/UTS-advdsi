{
 "metadata": {
  "language_info": {
   "codemirror_mode": {
    "name": "ipython",
    "version": 3
   },
   "file_extension": ".py",
   "mimetype": "text/x-python",
   "name": "python",
   "nbconvert_exporter": "python",
   "pygments_lexer": "ipython3",
   "version": "3.9.1-final"
  },
  "orig_nbformat": 2,
  "kernelspec": {
   "name": "python3",
   "display_name": "Python 3",
   "language": "python"
  }
 },
 "nbformat": 4,
 "nbformat_minor": 2,
 "cells": [
  {
   "cell_type": "code",
   "execution_count": 1,
   "metadata": {},
   "outputs": [],
   "source": [
    "import pandas as pd\n",
    "pd.set_option('display.max_columns', None)"
   ]
  },
  {
   "cell_type": "code",
   "execution_count": 2,
   "metadata": {},
   "outputs": [],
   "source": [
    "df = pd.read_csv(\"../data/raw/train.csv\")"
   ]
  },
  {
   "cell_type": "code",
   "execution_count": 3,
   "metadata": {},
   "outputs": [
    {
     "output_type": "stream",
     "name": "stdout",
     "text": [
      "<class 'pandas.core.frame.DataFrame'>\nRangeIndex: 8000 entries, 0 to 7999\nData columns (total 22 columns):\n #   Column       Non-Null Count  Dtype  \n---  ------       --------------  -----  \n 0   Id_old       8000 non-null   int64  \n 1   Id           8000 non-null   int64  \n 2   GP           8000 non-null   int64  \n 3   MIN          8000 non-null   float64\n 4   PTS          8000 non-null   float64\n 5   FGM          8000 non-null   float64\n 6   FGA          8000 non-null   float64\n 7   FG%          8000 non-null   float64\n 8   3P Made      8000 non-null   float64\n 9   3PA          8000 non-null   float64\n 10  3P%          8000 non-null   float64\n 11  FTM          8000 non-null   float64\n 12  FTA          8000 non-null   float64\n 13  FT%          8000 non-null   float64\n 14  OREB         8000 non-null   float64\n 15  DREB         8000 non-null   float64\n 16  REB          8000 non-null   float64\n 17  AST          8000 non-null   float64\n 18  STL          8000 non-null   float64\n 19  BLK          8000 non-null   float64\n 20  TOV          8000 non-null   float64\n 21  TARGET_5Yrs  8000 non-null   int64  \ndtypes: float64(18), int64(4)\nmemory usage: 1.3 MB\n"
     ]
    }
   ],
   "source": [
    "df.info()"
   ]
  },
  {
   "source": [
    "No non-null and all values are numeric"
   ],
   "cell_type": "markdown",
   "metadata": {}
  },
  {
   "cell_type": "code",
   "execution_count": 4,
   "metadata": {},
   "outputs": [
    {
     "output_type": "execute_result",
     "data": {
      "text/plain": [
       "             Id_old           Id           GP          MIN          PTS  \\\n",
       "count   8000.000000   8000.00000  8000.000000  8000.000000  8000.000000   \n",
       "mean    6856.971000   7798.50000    62.777875    18.576662     7.267088   \n",
       "std     3977.447579   2309.54541    17.118774     8.935263     4.318732   \n",
       "min        4.000000   3799.00000    -8.000000     2.900000     0.800000   \n",
       "25%     3413.750000   5798.75000    51.000000    12.000000     4.100000   \n",
       "50%     6787.500000   7798.50000    63.000000    16.800000     6.300000   \n",
       "75%    10299.250000   9798.25000    74.000000    23.500000     9.500000   \n",
       "max    13798.000000  11798.00000   123.000000    73.800000    34.200000   \n",
       "\n",
       "               FGM          FGA          FG%      3P Made          3PA  \\\n",
       "count  8000.000000  8000.000000  8000.000000  8000.000000  8000.000000   \n",
       "mean      2.807037     6.231212    44.608900     0.264525     0.816562   \n",
       "std       1.693373     3.584559     6.155453     0.384093     1.060964   \n",
       "min       0.300000     0.800000    21.300000    -1.100000    -3.100000   \n",
       "25%       1.600000     3.600000    40.400000     0.000000     0.100000   \n",
       "50%       2.400000     5.400000    44.400000     0.300000     0.800000   \n",
       "75%       3.700000     8.100000    48.700000     0.500000     1.500000   \n",
       "max      13.100000    28.900000    67.200000     1.700000     4.700000   \n",
       "\n",
       "               3P%          FTM          FTA          FT%         OREB  \\\n",
       "count  8000.000000  8000.000000  8000.000000  8000.000000  8000.000000   \n",
       "mean     19.583700     1.392525     1.947788    71.365825     1.077838   \n",
       "std      16.003155     0.926153     1.252352    10.430447     0.785670   \n",
       "min     -38.500000     0.000000     0.000000   -13.300000     0.000000   \n",
       "25%       8.400000     0.700000     1.000000    65.000000     0.500000   \n",
       "50%      19.500000     1.200000     1.700000    71.400000     0.900000   \n",
       "75%      30.600000     1.900000     2.600000    77.500000     1.500000   \n",
       "max      82.100000     8.100000    11.100000   168.900000     5.500000   \n",
       "\n",
       "              DREB          REB          AST          STL          BLK  \\\n",
       "count  8000.000000  8000.000000  8000.000000  8000.000000  8000.000000   \n",
       "mean      2.168500     3.245300     1.624513     0.648687     0.245212   \n",
       "std       1.392224     2.085154     1.355986     0.407626     0.821037   \n",
       "min       0.200000     0.300000     0.000000     0.000000   -17.900000   \n",
       "25%       1.100000     1.700000     0.700000     0.300000     0.100000   \n",
       "50%       1.900000     2.800000     1.300000     0.600000     0.200000   \n",
       "75%       2.900000     4.300000     2.200000     0.900000     0.400000   \n",
       "max      11.000000    15.900000    12.800000     3.600000    18.900000   \n",
       "\n",
       "               TOV  TARGET_5Yrs  \n",
       "count  8000.000000  8000.000000  \n",
       "mean      1.257763     0.833625  \n",
       "std       0.723270     0.372440  \n",
       "min       0.100000     0.000000  \n",
       "25%       0.700000     1.000000  \n",
       "50%       1.100000     1.000000  \n",
       "75%       1.600000     1.000000  \n",
       "max       5.300000     1.000000  "
      ],
      "text/html": "<div>\n<style scoped>\n    .dataframe tbody tr th:only-of-type {\n        vertical-align: middle;\n    }\n\n    .dataframe tbody tr th {\n        vertical-align: top;\n    }\n\n    .dataframe thead th {\n        text-align: right;\n    }\n</style>\n<table border=\"1\" class=\"dataframe\">\n  <thead>\n    <tr style=\"text-align: right;\">\n      <th></th>\n      <th>Id_old</th>\n      <th>Id</th>\n      <th>GP</th>\n      <th>MIN</th>\n      <th>PTS</th>\n      <th>FGM</th>\n      <th>FGA</th>\n      <th>FG%</th>\n      <th>3P Made</th>\n      <th>3PA</th>\n      <th>3P%</th>\n      <th>FTM</th>\n      <th>FTA</th>\n      <th>FT%</th>\n      <th>OREB</th>\n      <th>DREB</th>\n      <th>REB</th>\n      <th>AST</th>\n      <th>STL</th>\n      <th>BLK</th>\n      <th>TOV</th>\n      <th>TARGET_5Yrs</th>\n    </tr>\n  </thead>\n  <tbody>\n    <tr>\n      <th>count</th>\n      <td>8000.000000</td>\n      <td>8000.00000</td>\n      <td>8000.000000</td>\n      <td>8000.000000</td>\n      <td>8000.000000</td>\n      <td>8000.000000</td>\n      <td>8000.000000</td>\n      <td>8000.000000</td>\n      <td>8000.000000</td>\n      <td>8000.000000</td>\n      <td>8000.000000</td>\n      <td>8000.000000</td>\n      <td>8000.000000</td>\n      <td>8000.000000</td>\n      <td>8000.000000</td>\n      <td>8000.000000</td>\n      <td>8000.000000</td>\n      <td>8000.000000</td>\n      <td>8000.000000</td>\n      <td>8000.000000</td>\n      <td>8000.000000</td>\n      <td>8000.000000</td>\n    </tr>\n    <tr>\n      <th>mean</th>\n      <td>6856.971000</td>\n      <td>7798.50000</td>\n      <td>62.777875</td>\n      <td>18.576662</td>\n      <td>7.267088</td>\n      <td>2.807037</td>\n      <td>6.231212</td>\n      <td>44.608900</td>\n      <td>0.264525</td>\n      <td>0.816562</td>\n      <td>19.583700</td>\n      <td>1.392525</td>\n      <td>1.947788</td>\n      <td>71.365825</td>\n      <td>1.077838</td>\n      <td>2.168500</td>\n      <td>3.245300</td>\n      <td>1.624513</td>\n      <td>0.648687</td>\n      <td>0.245212</td>\n      <td>1.257763</td>\n      <td>0.833625</td>\n    </tr>\n    <tr>\n      <th>std</th>\n      <td>3977.447579</td>\n      <td>2309.54541</td>\n      <td>17.118774</td>\n      <td>8.935263</td>\n      <td>4.318732</td>\n      <td>1.693373</td>\n      <td>3.584559</td>\n      <td>6.155453</td>\n      <td>0.384093</td>\n      <td>1.060964</td>\n      <td>16.003155</td>\n      <td>0.926153</td>\n      <td>1.252352</td>\n      <td>10.430447</td>\n      <td>0.785670</td>\n      <td>1.392224</td>\n      <td>2.085154</td>\n      <td>1.355986</td>\n      <td>0.407626</td>\n      <td>0.821037</td>\n      <td>0.723270</td>\n      <td>0.372440</td>\n    </tr>\n    <tr>\n      <th>min</th>\n      <td>4.000000</td>\n      <td>3799.00000</td>\n      <td>-8.000000</td>\n      <td>2.900000</td>\n      <td>0.800000</td>\n      <td>0.300000</td>\n      <td>0.800000</td>\n      <td>21.300000</td>\n      <td>-1.100000</td>\n      <td>-3.100000</td>\n      <td>-38.500000</td>\n      <td>0.000000</td>\n      <td>0.000000</td>\n      <td>-13.300000</td>\n      <td>0.000000</td>\n      <td>0.200000</td>\n      <td>0.300000</td>\n      <td>0.000000</td>\n      <td>0.000000</td>\n      <td>-17.900000</td>\n      <td>0.100000</td>\n      <td>0.000000</td>\n    </tr>\n    <tr>\n      <th>25%</th>\n      <td>3413.750000</td>\n      <td>5798.75000</td>\n      <td>51.000000</td>\n      <td>12.000000</td>\n      <td>4.100000</td>\n      <td>1.600000</td>\n      <td>3.600000</td>\n      <td>40.400000</td>\n      <td>0.000000</td>\n      <td>0.100000</td>\n      <td>8.400000</td>\n      <td>0.700000</td>\n      <td>1.000000</td>\n      <td>65.000000</td>\n      <td>0.500000</td>\n      <td>1.100000</td>\n      <td>1.700000</td>\n      <td>0.700000</td>\n      <td>0.300000</td>\n      <td>0.100000</td>\n      <td>0.700000</td>\n      <td>1.000000</td>\n    </tr>\n    <tr>\n      <th>50%</th>\n      <td>6787.500000</td>\n      <td>7798.50000</td>\n      <td>63.000000</td>\n      <td>16.800000</td>\n      <td>6.300000</td>\n      <td>2.400000</td>\n      <td>5.400000</td>\n      <td>44.400000</td>\n      <td>0.300000</td>\n      <td>0.800000</td>\n      <td>19.500000</td>\n      <td>1.200000</td>\n      <td>1.700000</td>\n      <td>71.400000</td>\n      <td>0.900000</td>\n      <td>1.900000</td>\n      <td>2.800000</td>\n      <td>1.300000</td>\n      <td>0.600000</td>\n      <td>0.200000</td>\n      <td>1.100000</td>\n      <td>1.000000</td>\n    </tr>\n    <tr>\n      <th>75%</th>\n      <td>10299.250000</td>\n      <td>9798.25000</td>\n      <td>74.000000</td>\n      <td>23.500000</td>\n      <td>9.500000</td>\n      <td>3.700000</td>\n      <td>8.100000</td>\n      <td>48.700000</td>\n      <td>0.500000</td>\n      <td>1.500000</td>\n      <td>30.600000</td>\n      <td>1.900000</td>\n      <td>2.600000</td>\n      <td>77.500000</td>\n      <td>1.500000</td>\n      <td>2.900000</td>\n      <td>4.300000</td>\n      <td>2.200000</td>\n      <td>0.900000</td>\n      <td>0.400000</td>\n      <td>1.600000</td>\n      <td>1.000000</td>\n    </tr>\n    <tr>\n      <th>max</th>\n      <td>13798.000000</td>\n      <td>11798.00000</td>\n      <td>123.000000</td>\n      <td>73.800000</td>\n      <td>34.200000</td>\n      <td>13.100000</td>\n      <td>28.900000</td>\n      <td>67.200000</td>\n      <td>1.700000</td>\n      <td>4.700000</td>\n      <td>82.100000</td>\n      <td>8.100000</td>\n      <td>11.100000</td>\n      <td>168.900000</td>\n      <td>5.500000</td>\n      <td>11.000000</td>\n      <td>15.900000</td>\n      <td>12.800000</td>\n      <td>3.600000</td>\n      <td>18.900000</td>\n      <td>5.300000</td>\n      <td>1.000000</td>\n    </tr>\n  </tbody>\n</table>\n</div>"
     },
     "metadata": {},
     "execution_count": 4
    }
   ],
   "source": [
    "df.describe(include='all')"
   ]
  },
  {
   "source": [
    "## Data Quality Concerns\n",
    "- GP, 3PM, 3PA, 3p%, FT%, BLK have negative value as minimum - **Convert to absolute value**\n",
    "- There are potential outliers in the value between 75% mark and MAX is huge jump across all features\n",
    "- Check if all made value is smaller than attempt value\n",
    "- All % values are bit off and not close to Made/attempt - **Consider dropping these fields or recreate them**\n",
    "- BLK has outliers - **Fix it or drop these**\n",
    "- "
   ],
   "cell_type": "markdown",
   "metadata": {}
  },
  {
   "cell_type": "code",
   "execution_count": 5,
   "metadata": {},
   "outputs": [
    {
     "output_type": "execute_result",
     "data": {
      "text/plain": [
       "1    6669\n",
       "0    1331\n",
       "Name: TARGET_5Yrs, dtype: int64"
      ]
     },
     "metadata": {},
     "execution_count": 5
    }
   ],
   "source": [
    "df[\"TARGET_5Yrs\"].value_counts()"
   ]
  },
  {
   "source": [
    "## Imbalanced Data\n",
    "The ground truth is quite unbalanced. Need to keep in mind in model selection and evaluation approach"
   ],
   "cell_type": "markdown",
   "metadata": {}
  },
  {
   "cell_type": "code",
   "execution_count": null,
   "metadata": {},
   "outputs": [],
   "source": []
  }
 ]
}