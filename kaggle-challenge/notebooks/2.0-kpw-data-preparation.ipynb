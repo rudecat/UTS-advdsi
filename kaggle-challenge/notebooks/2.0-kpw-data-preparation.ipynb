{
 "metadata": {
  "language_info": {
   "codemirror_mode": {
    "name": "ipython",
    "version": 3
   },
   "file_extension": ".py",
   "mimetype": "text/x-python",
   "name": "python",
   "nbconvert_exporter": "python",
   "pygments_lexer": "ipython3",
   "version": "3.9.1-final"
  },
  "orig_nbformat": 2,
  "kernelspec": {
   "name": "python3",
   "display_name": "Python 3",
   "language": "python"
  }
 },
 "nbformat": 4,
 "nbformat_minor": 2,
 "cells": [
  {
   "cell_type": "code",
   "execution_count": 1,
   "metadata": {},
   "outputs": [],
   "source": [
    "import pandas as pd\n",
    "import joblib"
   ]
  },
  {
   "cell_type": "code",
   "execution_count": 2,
   "metadata": {},
   "outputs": [],
   "source": [
    "df_train = pd.read_csv(\"../data/raw/train.csv\")\n",
    "df_test = pd.read_csv(\"../data/raw/test.csv\")\n",
    "\n",
    "# df_train = df_train.drop(columns=['FG%','3P%','FT%','BLK'])\n",
    "# df_test = df_test.drop(columns=['FG%','3P%','FT%','BLK'])"
   ]
  },
  {
   "cell_type": "code",
   "execution_count": 3,
   "metadata": {},
   "outputs": [],
   "source": [
    "def getAbsolute(df, name):\n",
    "    df = df.abs()\n",
    "    joblib.dump(df, \"../data/processed/abs_\"+name)\n",
    "    return df"
   ]
  },
  {
   "cell_type": "code",
   "execution_count": 4,
   "metadata": {},
   "outputs": [],
   "source": [
    "df_train = getAbsolute(df_train, \"train\")\n",
    "df_test = getAbsolute(df_test, \"test\")"
   ]
  },
  {
   "cell_type": "code",
   "execution_count": 5,
   "metadata": {},
   "outputs": [],
   "source": [
    "from sklearn.model_selection import train_test_split"
   ]
  },
  {
   "cell_type": "code",
   "execution_count": 6,
   "metadata": {},
   "outputs": [
    {
     "output_type": "execute_result",
     "data": {
      "text/plain": [
       "      GP   MIN   PTS  FGM  FGA   FG%  3P Made  3PA   3P%  FTM  FTA   FT%  \\\n",
       "0     80  24.3   7.8  3.0  6.4  45.7      0.1  0.3  22.6  2.0  2.9  72.1   \n",
       "1     75  21.8  10.5  4.2  7.9  55.1      0.3  1.0  34.9  2.4  3.6  67.8   \n",
       "2     85  19.1   4.5  1.9  4.5  42.8      0.4  1.2  34.3  0.4  0.6  75.7   \n",
       "3     63  19.1   8.2  3.5  6.7  52.5      0.3  0.8  23.7  0.9  1.5  66.9   \n",
       "4     63  17.8   3.7  1.7  3.4  50.8      0.5  1.4  13.7  0.2  0.5  54.0   \n",
       "...   ..   ...   ...  ...  ...   ...      ...  ...   ...  ...  ...   ...   \n",
       "7995  32   9.2   1.8  0.7  1.8  40.3      0.1  0.2  23.1  0.4  0.6  65.7   \n",
       "7996  54   6.0   1.8  0.7  1.4  48.7      0.1  0.1   3.1  0.2  0.4  70.1   \n",
       "7997  85  28.2  10.7  4.0  9.0  45.1      0.2  0.6  23.6  2.8  3.9  69.7   \n",
       "7998  39   7.7   2.5  1.0  2.3  40.1      0.3  0.5  13.3  0.6  0.7  74.3   \n",
       "7999  49  19.2   4.8  1.7  5.1  32.6      0.7  2.4  41.3  0.8  1.3  70.1   \n",
       "\n",
       "      OREB  DREB  REB  AST  STL  BLK  TOV  \n",
       "0      2.2   2.0  3.8  3.2  1.1  0.2  1.6  \n",
       "1      3.6   3.7  6.6  0.7  0.5  0.6  1.4  \n",
       "2      0.6   1.8  2.4  0.8  0.4  0.2  0.6  \n",
       "3      0.8   2.0  3.0  1.8  0.4  0.1  1.9  \n",
       "4      2.4   2.7  4.9  0.4  0.4  0.6  0.7  \n",
       "...    ...   ...  ...  ...  ...  ...  ...  \n",
       "7995   0.3   1.8  1.9  0.5  0.3  0.2  0.4  \n",
       "7996   1.0   1.1  2.0  0.1  0.0  0.3  0.3  \n",
       "7997   1.0   2.1  3.1  3.4  1.2  0.2  1.8  \n",
       "7998   0.4   0.6  0.9  0.2  0.3  0.3  0.5  \n",
       "7999   0.1   1.1  1.2  3.5  0.9  0.3  1.4  \n",
       "\n",
       "[8000 rows x 19 columns]"
      ],
      "text/html": "<div>\n<style scoped>\n    .dataframe tbody tr th:only-of-type {\n        vertical-align: middle;\n    }\n\n    .dataframe tbody tr th {\n        vertical-align: top;\n    }\n\n    .dataframe thead th {\n        text-align: right;\n    }\n</style>\n<table border=\"1\" class=\"dataframe\">\n  <thead>\n    <tr style=\"text-align: right;\">\n      <th></th>\n      <th>GP</th>\n      <th>MIN</th>\n      <th>PTS</th>\n      <th>FGM</th>\n      <th>FGA</th>\n      <th>FG%</th>\n      <th>3P Made</th>\n      <th>3PA</th>\n      <th>3P%</th>\n      <th>FTM</th>\n      <th>FTA</th>\n      <th>FT%</th>\n      <th>OREB</th>\n      <th>DREB</th>\n      <th>REB</th>\n      <th>AST</th>\n      <th>STL</th>\n      <th>BLK</th>\n      <th>TOV</th>\n    </tr>\n  </thead>\n  <tbody>\n    <tr>\n      <th>0</th>\n      <td>80</td>\n      <td>24.3</td>\n      <td>7.8</td>\n      <td>3.0</td>\n      <td>6.4</td>\n      <td>45.7</td>\n      <td>0.1</td>\n      <td>0.3</td>\n      <td>22.6</td>\n      <td>2.0</td>\n      <td>2.9</td>\n      <td>72.1</td>\n      <td>2.2</td>\n      <td>2.0</td>\n      <td>3.8</td>\n      <td>3.2</td>\n      <td>1.1</td>\n      <td>0.2</td>\n      <td>1.6</td>\n    </tr>\n    <tr>\n      <th>1</th>\n      <td>75</td>\n      <td>21.8</td>\n      <td>10.5</td>\n      <td>4.2</td>\n      <td>7.9</td>\n      <td>55.1</td>\n      <td>0.3</td>\n      <td>1.0</td>\n      <td>34.9</td>\n      <td>2.4</td>\n      <td>3.6</td>\n      <td>67.8</td>\n      <td>3.6</td>\n      <td>3.7</td>\n      <td>6.6</td>\n      <td>0.7</td>\n      <td>0.5</td>\n      <td>0.6</td>\n      <td>1.4</td>\n    </tr>\n    <tr>\n      <th>2</th>\n      <td>85</td>\n      <td>19.1</td>\n      <td>4.5</td>\n      <td>1.9</td>\n      <td>4.5</td>\n      <td>42.8</td>\n      <td>0.4</td>\n      <td>1.2</td>\n      <td>34.3</td>\n      <td>0.4</td>\n      <td>0.6</td>\n      <td>75.7</td>\n      <td>0.6</td>\n      <td>1.8</td>\n      <td>2.4</td>\n      <td>0.8</td>\n      <td>0.4</td>\n      <td>0.2</td>\n      <td>0.6</td>\n    </tr>\n    <tr>\n      <th>3</th>\n      <td>63</td>\n      <td>19.1</td>\n      <td>8.2</td>\n      <td>3.5</td>\n      <td>6.7</td>\n      <td>52.5</td>\n      <td>0.3</td>\n      <td>0.8</td>\n      <td>23.7</td>\n      <td>0.9</td>\n      <td>1.5</td>\n      <td>66.9</td>\n      <td>0.8</td>\n      <td>2.0</td>\n      <td>3.0</td>\n      <td>1.8</td>\n      <td>0.4</td>\n      <td>0.1</td>\n      <td>1.9</td>\n    </tr>\n    <tr>\n      <th>4</th>\n      <td>63</td>\n      <td>17.8</td>\n      <td>3.7</td>\n      <td>1.7</td>\n      <td>3.4</td>\n      <td>50.8</td>\n      <td>0.5</td>\n      <td>1.4</td>\n      <td>13.7</td>\n      <td>0.2</td>\n      <td>0.5</td>\n      <td>54.0</td>\n      <td>2.4</td>\n      <td>2.7</td>\n      <td>4.9</td>\n      <td>0.4</td>\n      <td>0.4</td>\n      <td>0.6</td>\n      <td>0.7</td>\n    </tr>\n    <tr>\n      <th>...</th>\n      <td>...</td>\n      <td>...</td>\n      <td>...</td>\n      <td>...</td>\n      <td>...</td>\n      <td>...</td>\n      <td>...</td>\n      <td>...</td>\n      <td>...</td>\n      <td>...</td>\n      <td>...</td>\n      <td>...</td>\n      <td>...</td>\n      <td>...</td>\n      <td>...</td>\n      <td>...</td>\n      <td>...</td>\n      <td>...</td>\n      <td>...</td>\n    </tr>\n    <tr>\n      <th>7995</th>\n      <td>32</td>\n      <td>9.2</td>\n      <td>1.8</td>\n      <td>0.7</td>\n      <td>1.8</td>\n      <td>40.3</td>\n      <td>0.1</td>\n      <td>0.2</td>\n      <td>23.1</td>\n      <td>0.4</td>\n      <td>0.6</td>\n      <td>65.7</td>\n      <td>0.3</td>\n      <td>1.8</td>\n      <td>1.9</td>\n      <td>0.5</td>\n      <td>0.3</td>\n      <td>0.2</td>\n      <td>0.4</td>\n    </tr>\n    <tr>\n      <th>7996</th>\n      <td>54</td>\n      <td>6.0</td>\n      <td>1.8</td>\n      <td>0.7</td>\n      <td>1.4</td>\n      <td>48.7</td>\n      <td>0.1</td>\n      <td>0.1</td>\n      <td>3.1</td>\n      <td>0.2</td>\n      <td>0.4</td>\n      <td>70.1</td>\n      <td>1.0</td>\n      <td>1.1</td>\n      <td>2.0</td>\n      <td>0.1</td>\n      <td>0.0</td>\n      <td>0.3</td>\n      <td>0.3</td>\n    </tr>\n    <tr>\n      <th>7997</th>\n      <td>85</td>\n      <td>28.2</td>\n      <td>10.7</td>\n      <td>4.0</td>\n      <td>9.0</td>\n      <td>45.1</td>\n      <td>0.2</td>\n      <td>0.6</td>\n      <td>23.6</td>\n      <td>2.8</td>\n      <td>3.9</td>\n      <td>69.7</td>\n      <td>1.0</td>\n      <td>2.1</td>\n      <td>3.1</td>\n      <td>3.4</td>\n      <td>1.2</td>\n      <td>0.2</td>\n      <td>1.8</td>\n    </tr>\n    <tr>\n      <th>7998</th>\n      <td>39</td>\n      <td>7.7</td>\n      <td>2.5</td>\n      <td>1.0</td>\n      <td>2.3</td>\n      <td>40.1</td>\n      <td>0.3</td>\n      <td>0.5</td>\n      <td>13.3</td>\n      <td>0.6</td>\n      <td>0.7</td>\n      <td>74.3</td>\n      <td>0.4</td>\n      <td>0.6</td>\n      <td>0.9</td>\n      <td>0.2</td>\n      <td>0.3</td>\n      <td>0.3</td>\n      <td>0.5</td>\n    </tr>\n    <tr>\n      <th>7999</th>\n      <td>49</td>\n      <td>19.2</td>\n      <td>4.8</td>\n      <td>1.7</td>\n      <td>5.1</td>\n      <td>32.6</td>\n      <td>0.7</td>\n      <td>2.4</td>\n      <td>41.3</td>\n      <td>0.8</td>\n      <td>1.3</td>\n      <td>70.1</td>\n      <td>0.1</td>\n      <td>1.1</td>\n      <td>1.2</td>\n      <td>3.5</td>\n      <td>0.9</td>\n      <td>0.3</td>\n      <td>1.4</td>\n    </tr>\n  </tbody>\n</table>\n<p>8000 rows × 19 columns</p>\n</div>"
     },
     "metadata": {},
     "execution_count": 6
    }
   ],
   "source": [
    "X = df_train.iloc[:,2:-1]\n",
    "X\n"
   ]
  },
  {
   "cell_type": "code",
   "execution_count": 7,
   "metadata": {},
   "outputs": [
    {
     "output_type": "execute_result",
     "data": {
      "text/plain": [
       "      TARGET_5Yrs\n",
       "0               1\n",
       "1               1\n",
       "2               1\n",
       "3               1\n",
       "4               1\n",
       "...           ...\n",
       "7995            1\n",
       "7996            1\n",
       "7997            1\n",
       "7998            1\n",
       "7999            1\n",
       "\n",
       "[8000 rows x 1 columns]"
      ],
      "text/html": "<div>\n<style scoped>\n    .dataframe tbody tr th:only-of-type {\n        vertical-align: middle;\n    }\n\n    .dataframe tbody tr th {\n        vertical-align: top;\n    }\n\n    .dataframe thead th {\n        text-align: right;\n    }\n</style>\n<table border=\"1\" class=\"dataframe\">\n  <thead>\n    <tr style=\"text-align: right;\">\n      <th></th>\n      <th>TARGET_5Yrs</th>\n    </tr>\n  </thead>\n  <tbody>\n    <tr>\n      <th>0</th>\n      <td>1</td>\n    </tr>\n    <tr>\n      <th>1</th>\n      <td>1</td>\n    </tr>\n    <tr>\n      <th>2</th>\n      <td>1</td>\n    </tr>\n    <tr>\n      <th>3</th>\n      <td>1</td>\n    </tr>\n    <tr>\n      <th>4</th>\n      <td>1</td>\n    </tr>\n    <tr>\n      <th>...</th>\n      <td>...</td>\n    </tr>\n    <tr>\n      <th>7995</th>\n      <td>1</td>\n    </tr>\n    <tr>\n      <th>7996</th>\n      <td>1</td>\n    </tr>\n    <tr>\n      <th>7997</th>\n      <td>1</td>\n    </tr>\n    <tr>\n      <th>7998</th>\n      <td>1</td>\n    </tr>\n    <tr>\n      <th>7999</th>\n      <td>1</td>\n    </tr>\n  </tbody>\n</table>\n<p>8000 rows × 1 columns</p>\n</div>"
     },
     "metadata": {},
     "execution_count": 7
    }
   ],
   "source": [
    "y = df_train.iloc[:,-1:]\n",
    "y"
   ]
  },
  {
   "cell_type": "code",
   "execution_count": 8,
   "metadata": {},
   "outputs": [
    {
     "output_type": "execute_result",
     "data": {
      "text/plain": [
       "1    6669\n",
       "0    1331\n",
       "Name: TARGET_5Yrs, dtype: int64"
      ]
     },
     "metadata": {},
     "execution_count": 8
    }
   ],
   "source": [
    "df_train.TARGET_5Yrs.value_counts()"
   ]
  },
  {
   "cell_type": "code",
   "execution_count": 9,
   "metadata": {},
   "outputs": [
    {
     "output_type": "execute_result",
     "data": {
      "text/plain": [
       "TARGET_5Yrs\n",
       "1              5326\n",
       "0              1074\n",
       "dtype: int64"
      ]
     },
     "metadata": {},
     "execution_count": 9
    }
   ],
   "source": [
    "X_train, X_val, y_train, y_val = train_test_split(X, y, test_size=0.2, random_state=8)\n",
    "y_train.value_counts()"
   ]
  },
  {
   "cell_type": "code",
   "execution_count": 10,
   "metadata": {},
   "outputs": [
    {
     "output_type": "execute_result",
     "data": {
      "text/plain": [
       "TARGET_5Yrs\n",
       "1              1343\n",
       "0               257\n",
       "dtype: int64"
      ]
     },
     "metadata": {},
     "execution_count": 10
    }
   ],
   "source": [
    "y_val.value_counts()"
   ]
  },
  {
   "cell_type": "code",
   "execution_count": 11,
   "metadata": {},
   "outputs": [],
   "source": [
    "from sklearn.preprocessing import MinMaxScaler\n",
    "sc = MinMaxScaler().fit(X_train)\n",
    "X_train = sc.transform(X_train)\n",
    "X_val = sc.transform(X_val)"
   ]
  },
  {
   "cell_type": "code",
   "execution_count": 12,
   "metadata": {},
   "outputs": [],
   "source": [
    "X_test = df_test.iloc[:,2:]\n",
    "X_test\n",
    "X_test = sc.transform(X_test)"
   ]
  },
  {
   "cell_type": "code",
   "execution_count": 13,
   "metadata": {},
   "outputs": [
    {
     "output_type": "execute_result",
     "data": {
      "text/plain": [
       "        Id\n",
       "0        0\n",
       "1        1\n",
       "2        2\n",
       "3        3\n",
       "4        4\n",
       "...    ...\n",
       "3794  3794\n",
       "3795  3795\n",
       "3796  3796\n",
       "3797  3797\n",
       "3798  3798\n",
       "\n",
       "[3799 rows x 1 columns]"
      ],
      "text/html": "<div>\n<style scoped>\n    .dataframe tbody tr th:only-of-type {\n        vertical-align: middle;\n    }\n\n    .dataframe tbody tr th {\n        vertical-align: top;\n    }\n\n    .dataframe thead th {\n        text-align: right;\n    }\n</style>\n<table border=\"1\" class=\"dataframe\">\n  <thead>\n    <tr style=\"text-align: right;\">\n      <th></th>\n      <th>Id</th>\n    </tr>\n  </thead>\n  <tbody>\n    <tr>\n      <th>0</th>\n      <td>0</td>\n    </tr>\n    <tr>\n      <th>1</th>\n      <td>1</td>\n    </tr>\n    <tr>\n      <th>2</th>\n      <td>2</td>\n    </tr>\n    <tr>\n      <th>3</th>\n      <td>3</td>\n    </tr>\n    <tr>\n      <th>4</th>\n      <td>4</td>\n    </tr>\n    <tr>\n      <th>...</th>\n      <td>...</td>\n    </tr>\n    <tr>\n      <th>3794</th>\n      <td>3794</td>\n    </tr>\n    <tr>\n      <th>3795</th>\n      <td>3795</td>\n    </tr>\n    <tr>\n      <th>3796</th>\n      <td>3796</td>\n    </tr>\n    <tr>\n      <th>3797</th>\n      <td>3797</td>\n    </tr>\n    <tr>\n      <th>3798</th>\n      <td>3798</td>\n    </tr>\n  </tbody>\n</table>\n<p>3799 rows × 1 columns</p>\n</div>"
     },
     "metadata": {},
     "execution_count": 13
    }
   ],
   "source": [
    "X_test_id = df_test.iloc[:,1:2]\n",
    "X_test_id"
   ]
  },
  {
   "cell_type": "code",
   "execution_count": 14,
   "metadata": {},
   "outputs": [
    {
     "output_type": "execute_result",
     "data": {
      "text/plain": [
       "['../data/processed/X_test_id']"
      ]
     },
     "metadata": {},
     "execution_count": 14
    }
   ],
   "source": [
    "joblib.dump(X_train, \"../data/processed/X_train\")\n",
    "joblib.dump(y_train, \"../data/processed/y_train\")\n",
    "joblib.dump(X_val, \"../data/processed/X_val\")\n",
    "joblib.dump(y_val, \"../data/processed/y_val\")\n",
    "joblib.dump(X_test, \"../data/processed/X_test\")\n",
    "joblib.dump(X_test_id, \"../data/processed/X_test_id\")"
   ]
  }
 ]
}