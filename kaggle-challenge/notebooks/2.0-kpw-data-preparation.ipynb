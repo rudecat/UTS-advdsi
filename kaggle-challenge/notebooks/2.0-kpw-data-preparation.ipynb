{
 "metadata": {
  "language_info": {
   "codemirror_mode": {
    "name": "ipython",
    "version": 3
   },
   "file_extension": ".py",
   "mimetype": "text/x-python",
   "name": "python",
   "nbconvert_exporter": "python",
   "pygments_lexer": "ipython3",
   "version": "3.9.1-final"
  },
  "orig_nbformat": 2,
  "kernelspec": {
   "name": "python3",
   "display_name": "Python 3",
   "language": "python"
  }
 },
 "nbformat": 4,
 "nbformat_minor": 2,
 "cells": [
  {
   "cell_type": "code",
   "execution_count": 1,
   "metadata": {},
   "outputs": [],
   "source": [
    "import pandas as pd\n",
    "import joblib"
   ]
  },
  {
   "cell_type": "code",
   "execution_count": 2,
   "metadata": {},
   "outputs": [],
   "source": [
    "df_train = pd.read_csv(\"../data/raw/train.csv\")\n",
    "df_test = pd.read_csv(\"../data/raw/test.csv\")\n",
    "\n",
    "df_train = df_train.drop(columns=['FG%','3P%','FT%'])\n",
    "df_test = df_test.drop(columns=['FG%','3P%','FT%'])\n",
    "\n",
    "# df_train = df_train.drop(columns=['FGM','FGA','3P Made','3PA','FTM','FTA','BLK'])\n",
    "# df_test = df_test.drop(columns=['FGM','FGA','3P Made','3PA','FTM','FTA','BLK'])"
   ]
  },
  {
   "cell_type": "code",
   "execution_count": 3,
   "metadata": {},
   "outputs": [],
   "source": [
    "def getAbsolute(df, name):\n",
    "    df = df.abs()\n",
    "    joblib.dump(df, \"../data/processed/abs_\"+name)\n",
    "    return df"
   ]
  },
  {
   "cell_type": "code",
   "execution_count": 4,
   "metadata": {},
   "outputs": [],
   "source": [
    "df_train = getAbsolute(df_train, \"train\")\n",
    "df_test = getAbsolute(df_test, \"test\")"
   ]
  },
  {
   "cell_type": "code",
   "execution_count": 5,
   "metadata": {},
   "outputs": [],
   "source": [
    "from sklearn.model_selection import train_test_split"
   ]
  },
  {
   "cell_type": "code",
   "execution_count": 6,
   "metadata": {},
   "outputs": [
    {
     "output_type": "execute_result",
     "data": {
      "text/plain": [
       "      GP   MIN   PTS  FGM  FGA  3P Made  3PA  FTM  FTA  OREB  ...  TOV  \\\n",
       "0     80  24.3   7.8  3.0  6.4      0.1  0.3  2.0  2.9   2.2  ...  1.6   \n",
       "1     75  21.8  10.5  4.2  7.9      0.3  1.0  2.4  3.6   3.6  ...  1.4   \n",
       "2     85  19.1   4.5  1.9  4.5      0.4  1.2  0.4  0.6   0.6  ...  0.6   \n",
       "3     63  19.1   8.2  3.5  6.7      0.3  0.8  0.9  1.5   0.8  ...  1.9   \n",
       "4     63  17.8   3.7  1.7  3.4      0.5  1.4  0.2  0.5   2.4  ...  0.7   \n",
       "...   ..   ...   ...  ...  ...      ...  ...  ...  ...   ...  ...  ...   \n",
       "7995  32   9.2   1.8  0.7  1.8      0.1  0.2  0.4  0.6   0.3  ...  0.4   \n",
       "7996  54   6.0   1.8  0.7  1.4      0.1  0.1  0.2  0.4   1.0  ...  0.3   \n",
       "7997  85  28.2  10.7  4.0  9.0      0.2  0.6  2.8  3.9   1.0  ...  1.8   \n",
       "7998  39   7.7   2.5  1.0  2.3      0.3  0.5  0.6  0.7   0.4  ...  0.5   \n",
       "7999  49  19.2   4.8  1.7  5.1      0.7  2.4  0.8  1.3   0.1  ...  1.4   \n",
       "\n",
       "           MPG       FG%       3P%       FT%  GP_small  GP_medium  MIN_small  \\\n",
       "0     0.303750  0.468750  0.333333  0.689655         0          1          0   \n",
       "1     0.290667  0.531646  0.300000  0.666667         0          1          0   \n",
       "2     0.224706  0.422222  0.333333  0.666667         0          1          1   \n",
       "3     0.303175  0.522388  0.375000  0.600000         0          1          1   \n",
       "4     0.282540  0.500000  0.357143  0.400000         0          1          1   \n",
       "...        ...       ...       ...       ...       ...        ...        ...   \n",
       "7995  0.287500  0.388889  0.500000  0.666667         1          0          1   \n",
       "7996  0.111111  0.500000  1.000000  0.500000         0          1          1   \n",
       "7997  0.331765  0.444444  0.333333  0.717949         0          1          0   \n",
       "7998  0.197436  0.434783  0.600000  0.857143         1          0          1   \n",
       "7999  0.391837  0.333333  0.291667  0.615385         1          0          1   \n",
       "\n",
       "      MIN_medium  NotActive  \n",
       "0              1          0  \n",
       "1              1          0  \n",
       "2              0          0  \n",
       "3              0          0  \n",
       "4              0          0  \n",
       "...          ...        ...  \n",
       "7995           0          0  \n",
       "7996           0          0  \n",
       "7997           1          0  \n",
       "7998           0          0  \n",
       "7999           0          0  \n",
       "\n",
       "[8000 rows x 25 columns]"
      ],
      "text/html": "<div>\n<style scoped>\n    .dataframe tbody tr th:only-of-type {\n        vertical-align: middle;\n    }\n\n    .dataframe tbody tr th {\n        vertical-align: top;\n    }\n\n    .dataframe thead th {\n        text-align: right;\n    }\n</style>\n<table border=\"1\" class=\"dataframe\">\n  <thead>\n    <tr style=\"text-align: right;\">\n      <th></th>\n      <th>GP</th>\n      <th>MIN</th>\n      <th>PTS</th>\n      <th>FGM</th>\n      <th>FGA</th>\n      <th>3P Made</th>\n      <th>3PA</th>\n      <th>FTM</th>\n      <th>FTA</th>\n      <th>OREB</th>\n      <th>...</th>\n      <th>TOV</th>\n      <th>MPG</th>\n      <th>FG%</th>\n      <th>3P%</th>\n      <th>FT%</th>\n      <th>GP_small</th>\n      <th>GP_medium</th>\n      <th>MIN_small</th>\n      <th>MIN_medium</th>\n      <th>NotActive</th>\n    </tr>\n  </thead>\n  <tbody>\n    <tr>\n      <th>0</th>\n      <td>80</td>\n      <td>24.3</td>\n      <td>7.8</td>\n      <td>3.0</td>\n      <td>6.4</td>\n      <td>0.1</td>\n      <td>0.3</td>\n      <td>2.0</td>\n      <td>2.9</td>\n      <td>2.2</td>\n      <td>...</td>\n      <td>1.6</td>\n      <td>0.303750</td>\n      <td>0.468750</td>\n      <td>0.333333</td>\n      <td>0.689655</td>\n      <td>0</td>\n      <td>1</td>\n      <td>0</td>\n      <td>1</td>\n      <td>0</td>\n    </tr>\n    <tr>\n      <th>1</th>\n      <td>75</td>\n      <td>21.8</td>\n      <td>10.5</td>\n      <td>4.2</td>\n      <td>7.9</td>\n      <td>0.3</td>\n      <td>1.0</td>\n      <td>2.4</td>\n      <td>3.6</td>\n      <td>3.6</td>\n      <td>...</td>\n      <td>1.4</td>\n      <td>0.290667</td>\n      <td>0.531646</td>\n      <td>0.300000</td>\n      <td>0.666667</td>\n      <td>0</td>\n      <td>1</td>\n      <td>0</td>\n      <td>1</td>\n      <td>0</td>\n    </tr>\n    <tr>\n      <th>2</th>\n      <td>85</td>\n      <td>19.1</td>\n      <td>4.5</td>\n      <td>1.9</td>\n      <td>4.5</td>\n      <td>0.4</td>\n      <td>1.2</td>\n      <td>0.4</td>\n      <td>0.6</td>\n      <td>0.6</td>\n      <td>...</td>\n      <td>0.6</td>\n      <td>0.224706</td>\n      <td>0.422222</td>\n      <td>0.333333</td>\n      <td>0.666667</td>\n      <td>0</td>\n      <td>1</td>\n      <td>1</td>\n      <td>0</td>\n      <td>0</td>\n    </tr>\n    <tr>\n      <th>3</th>\n      <td>63</td>\n      <td>19.1</td>\n      <td>8.2</td>\n      <td>3.5</td>\n      <td>6.7</td>\n      <td>0.3</td>\n      <td>0.8</td>\n      <td>0.9</td>\n      <td>1.5</td>\n      <td>0.8</td>\n      <td>...</td>\n      <td>1.9</td>\n      <td>0.303175</td>\n      <td>0.522388</td>\n      <td>0.375000</td>\n      <td>0.600000</td>\n      <td>0</td>\n      <td>1</td>\n      <td>1</td>\n      <td>0</td>\n      <td>0</td>\n    </tr>\n    <tr>\n      <th>4</th>\n      <td>63</td>\n      <td>17.8</td>\n      <td>3.7</td>\n      <td>1.7</td>\n      <td>3.4</td>\n      <td>0.5</td>\n      <td>1.4</td>\n      <td>0.2</td>\n      <td>0.5</td>\n      <td>2.4</td>\n      <td>...</td>\n      <td>0.7</td>\n      <td>0.282540</td>\n      <td>0.500000</td>\n      <td>0.357143</td>\n      <td>0.400000</td>\n      <td>0</td>\n      <td>1</td>\n      <td>1</td>\n      <td>0</td>\n      <td>0</td>\n    </tr>\n    <tr>\n      <th>...</th>\n      <td>...</td>\n      <td>...</td>\n      <td>...</td>\n      <td>...</td>\n      <td>...</td>\n      <td>...</td>\n      <td>...</td>\n      <td>...</td>\n      <td>...</td>\n      <td>...</td>\n      <td>...</td>\n      <td>...</td>\n      <td>...</td>\n      <td>...</td>\n      <td>...</td>\n      <td>...</td>\n      <td>...</td>\n      <td>...</td>\n      <td>...</td>\n      <td>...</td>\n      <td>...</td>\n    </tr>\n    <tr>\n      <th>7995</th>\n      <td>32</td>\n      <td>9.2</td>\n      <td>1.8</td>\n      <td>0.7</td>\n      <td>1.8</td>\n      <td>0.1</td>\n      <td>0.2</td>\n      <td>0.4</td>\n      <td>0.6</td>\n      <td>0.3</td>\n      <td>...</td>\n      <td>0.4</td>\n      <td>0.287500</td>\n      <td>0.388889</td>\n      <td>0.500000</td>\n      <td>0.666667</td>\n      <td>1</td>\n      <td>0</td>\n      <td>1</td>\n      <td>0</td>\n      <td>0</td>\n    </tr>\n    <tr>\n      <th>7996</th>\n      <td>54</td>\n      <td>6.0</td>\n      <td>1.8</td>\n      <td>0.7</td>\n      <td>1.4</td>\n      <td>0.1</td>\n      <td>0.1</td>\n      <td>0.2</td>\n      <td>0.4</td>\n      <td>1.0</td>\n      <td>...</td>\n      <td>0.3</td>\n      <td>0.111111</td>\n      <td>0.500000</td>\n      <td>1.000000</td>\n      <td>0.500000</td>\n      <td>0</td>\n      <td>1</td>\n      <td>1</td>\n      <td>0</td>\n      <td>0</td>\n    </tr>\n    <tr>\n      <th>7997</th>\n      <td>85</td>\n      <td>28.2</td>\n      <td>10.7</td>\n      <td>4.0</td>\n      <td>9.0</td>\n      <td>0.2</td>\n      <td>0.6</td>\n      <td>2.8</td>\n      <td>3.9</td>\n      <td>1.0</td>\n      <td>...</td>\n      <td>1.8</td>\n      <td>0.331765</td>\n      <td>0.444444</td>\n      <td>0.333333</td>\n      <td>0.717949</td>\n      <td>0</td>\n      <td>1</td>\n      <td>0</td>\n      <td>1</td>\n      <td>0</td>\n    </tr>\n    <tr>\n      <th>7998</th>\n      <td>39</td>\n      <td>7.7</td>\n      <td>2.5</td>\n      <td>1.0</td>\n      <td>2.3</td>\n      <td>0.3</td>\n      <td>0.5</td>\n      <td>0.6</td>\n      <td>0.7</td>\n      <td>0.4</td>\n      <td>...</td>\n      <td>0.5</td>\n      <td>0.197436</td>\n      <td>0.434783</td>\n      <td>0.600000</td>\n      <td>0.857143</td>\n      <td>1</td>\n      <td>0</td>\n      <td>1</td>\n      <td>0</td>\n      <td>0</td>\n    </tr>\n    <tr>\n      <th>7999</th>\n      <td>49</td>\n      <td>19.2</td>\n      <td>4.8</td>\n      <td>1.7</td>\n      <td>5.1</td>\n      <td>0.7</td>\n      <td>2.4</td>\n      <td>0.8</td>\n      <td>1.3</td>\n      <td>0.1</td>\n      <td>...</td>\n      <td>1.4</td>\n      <td>0.391837</td>\n      <td>0.333333</td>\n      <td>0.291667</td>\n      <td>0.615385</td>\n      <td>1</td>\n      <td>0</td>\n      <td>1</td>\n      <td>0</td>\n      <td>0</td>\n    </tr>\n  </tbody>\n</table>\n<p>8000 rows × 25 columns</p>\n</div>"
     },
     "metadata": {},
     "execution_count": 6
    }
   ],
   "source": [
    "X = df_train.iloc[:,2:-1]\n",
    "X['MPG'] = X.apply(lambda row: row['MIN'] / row['GP'], axis = 1)\n",
    "X['FG%'] = X.apply(lambda row: row['FGM'] / row['FGA'] if row['FGA'] > 0 else 0, axis = 1)\n",
    "# X['FG%_Rank'] = X.apply(lambda row: 1 if row['FG%'] >= 0.5 else 0, axis = 1)\n",
    "X['3P%'] = X.apply(lambda row: row['3P Made'] / row['3PA'] if row['3PA'] > 0 else 0, axis = 1)\n",
    "# X['3P%_Rank'] = X.apply(lambda row: 1 if row['3P%'] >= 0.5 else 0, axis = 1)\n",
    "X['FT%'] = X.apply(lambda row: row['FTM'] / row['FTA'] if row['FTA'] > 0 else 0, axis = 1)\n",
    "# X['FT%_Rank'] = X.apply(lambda row: 1 if row['FT%'] >= 0.5 else 0, axis = 1)\n",
    "X['GP_small'] = X.apply(lambda row: 1 if row['GP'] < 50 else 0, axis = 1)\n",
    "X['GP_medium'] = X.apply(lambda row: 1 if (row['GP'] >= 50 and row['GP'] < 100) else 0, axis = 1)\n",
    "X['MIN_small'] = X.apply(lambda row: 1 if row['MIN'] <= 20 else 0, axis = 1)\n",
    "X['MIN_medium'] = X.apply(lambda row: 1 if (row['MIN'] > 20  and row['MIN'] <= 40) else 0, axis = 1)\n",
    "X['NotActive'] = X.apply(lambda row: 1 if (row['FGA']*row['3PA']*row['FTA']*row['AST']*row['BLK']*row['TOV'] == 0) else 0, axis = 1)\n",
    "# X['GP_large'] = X.apply(lambda row: 1 if (row['GP'] > 100) else 0, axis = 1)\n",
    "# X = X.drop(columns=['MIN','GP','FG%','3P%','FT%'])\n",
    "# X = X.drop(columns=['FG%','3P%','FT%'])\n",
    "X"
   ]
  },
  {
   "cell_type": "code",
   "execution_count": 7,
   "metadata": {},
   "outputs": [
    {
     "output_type": "execute_result",
     "data": {
      "text/plain": [
       "      TARGET_5Yrs\n",
       "0               1\n",
       "1               1\n",
       "2               1\n",
       "3               1\n",
       "4               1\n",
       "...           ...\n",
       "7995            1\n",
       "7996            1\n",
       "7997            1\n",
       "7998            1\n",
       "7999            1\n",
       "\n",
       "[8000 rows x 1 columns]"
      ],
      "text/html": "<div>\n<style scoped>\n    .dataframe tbody tr th:only-of-type {\n        vertical-align: middle;\n    }\n\n    .dataframe tbody tr th {\n        vertical-align: top;\n    }\n\n    .dataframe thead th {\n        text-align: right;\n    }\n</style>\n<table border=\"1\" class=\"dataframe\">\n  <thead>\n    <tr style=\"text-align: right;\">\n      <th></th>\n      <th>TARGET_5Yrs</th>\n    </tr>\n  </thead>\n  <tbody>\n    <tr>\n      <th>0</th>\n      <td>1</td>\n    </tr>\n    <tr>\n      <th>1</th>\n      <td>1</td>\n    </tr>\n    <tr>\n      <th>2</th>\n      <td>1</td>\n    </tr>\n    <tr>\n      <th>3</th>\n      <td>1</td>\n    </tr>\n    <tr>\n      <th>4</th>\n      <td>1</td>\n    </tr>\n    <tr>\n      <th>...</th>\n      <td>...</td>\n    </tr>\n    <tr>\n      <th>7995</th>\n      <td>1</td>\n    </tr>\n    <tr>\n      <th>7996</th>\n      <td>1</td>\n    </tr>\n    <tr>\n      <th>7997</th>\n      <td>1</td>\n    </tr>\n    <tr>\n      <th>7998</th>\n      <td>1</td>\n    </tr>\n    <tr>\n      <th>7999</th>\n      <td>1</td>\n    </tr>\n  </tbody>\n</table>\n<p>8000 rows × 1 columns</p>\n</div>"
     },
     "metadata": {},
     "execution_count": 7
    }
   ],
   "source": [
    "y = df_train.iloc[:,-1:]\n",
    "y"
   ]
  },
  {
   "cell_type": "code",
   "execution_count": 8,
   "metadata": {},
   "outputs": [
    {
     "output_type": "execute_result",
     "data": {
      "text/plain": [
       "1    6669\n",
       "0    1331\n",
       "Name: TARGET_5Yrs, dtype: int64"
      ]
     },
     "metadata": {},
     "execution_count": 8
    }
   ],
   "source": [
    "df_train.TARGET_5Yrs.value_counts()"
   ]
  },
  {
   "cell_type": "code",
   "execution_count": 9,
   "metadata": {},
   "outputs": [
    {
     "output_type": "execute_result",
     "data": {
      "text/plain": [
       "TARGET_5Yrs\n",
       "1              5326\n",
       "0              1074\n",
       "dtype: int64"
      ]
     },
     "metadata": {},
     "execution_count": 9
    }
   ],
   "source": [
    "X_train, X_val, y_train, y_val = train_test_split(X, y, test_size=0.2, random_state=8)\n",
    "y_train.value_counts()"
   ]
  },
  {
   "cell_type": "code",
   "execution_count": 10,
   "metadata": {},
   "outputs": [
    {
     "output_type": "execute_result",
     "data": {
      "text/plain": [
       "TARGET_5Yrs\n",
       "1              1343\n",
       "0               257\n",
       "dtype: int64"
      ]
     },
     "metadata": {},
     "execution_count": 10
    }
   ],
   "source": [
    "y_val.value_counts()"
   ]
  },
  {
   "cell_type": "code",
   "execution_count": 11,
   "metadata": {},
   "outputs": [],
   "source": [
    "from sklearn.preprocessing import MinMaxScaler\n",
    "sc = MinMaxScaler().fit(X_train)\n",
    "X_train = sc.transform(X_train)\n",
    "X_val = sc.transform(X_val)"
   ]
  },
  {
   "cell_type": "code",
   "execution_count": 13,
   "metadata": {},
   "outputs": [],
   "source": [
    "X_test = df_test.iloc[:,2:]\n",
    "X_test['MPG'] = X_test.apply(lambda row: row['MIN'] / row['GP'], axis = 1)\n",
    "X_test['FG%'] = X_test.apply(lambda row: row['FGM'] / row['FGA'] if row['FGA'] > 0 else 0, axis = 1)\n",
    "X_test['3P%'] = X_test.apply(lambda row: row['3P Made'] / row['3PA'] if row['3PA'] > 0 else 0, axis = 1)\n",
    "X_test['FT%'] = X_test.apply(lambda row: row['FTM'] / row['FTA'] if row['FTA'] > 0 else 0, axis = 1)\n",
    "X_test['GP_small'] = X_test.apply(lambda row: 1 if row['GP'] < 50 else 0, axis = 1)\n",
    "X_test['GP_medium'] = X_test.apply(lambda row: 1 if (row['GP'] >= 50 and row['GP'] < 100) else 0, axis = 1)\n",
    "# X_test['GP_large'] = X_test.apply(lambda row: 1 if (row['GP'] > 100) else 0, axis = 1)\n",
    "X_test['MIN_small'] = X_test.apply(lambda row: 1 if row['MIN'] <= 20 else 0, axis = 1)\n",
    "X_test['MIN_medium'] = X_test.apply(lambda row: 1 if (row['MIN'] > 20  and row['MIN'] <= 40) else 0, axis = 1)\n",
    "X_test['NotActive'] = X_test.apply(lambda row: 1 if (row['FGA']*row['3PA']*row['FTA']*row['AST']*row['BLK']*row['TOV'] == 0) else 0, axis = 1)\n",
    "# X_test = X_test.drop(columns=['MIN','GP'])\n",
    "X_test = sc.transform(X_test)"
   ]
  },
  {
   "cell_type": "code",
   "execution_count": 14,
   "metadata": {},
   "outputs": [
    {
     "output_type": "execute_result",
     "data": {
      "text/plain": [
       "        Id\n",
       "0        0\n",
       "1        1\n",
       "2        2\n",
       "3        3\n",
       "4        4\n",
       "...    ...\n",
       "3794  3794\n",
       "3795  3795\n",
       "3796  3796\n",
       "3797  3797\n",
       "3798  3798\n",
       "\n",
       "[3799 rows x 1 columns]"
      ],
      "text/html": "<div>\n<style scoped>\n    .dataframe tbody tr th:only-of-type {\n        vertical-align: middle;\n    }\n\n    .dataframe tbody tr th {\n        vertical-align: top;\n    }\n\n    .dataframe thead th {\n        text-align: right;\n    }\n</style>\n<table border=\"1\" class=\"dataframe\">\n  <thead>\n    <tr style=\"text-align: right;\">\n      <th></th>\n      <th>Id</th>\n    </tr>\n  </thead>\n  <tbody>\n    <tr>\n      <th>0</th>\n      <td>0</td>\n    </tr>\n    <tr>\n      <th>1</th>\n      <td>1</td>\n    </tr>\n    <tr>\n      <th>2</th>\n      <td>2</td>\n    </tr>\n    <tr>\n      <th>3</th>\n      <td>3</td>\n    </tr>\n    <tr>\n      <th>4</th>\n      <td>4</td>\n    </tr>\n    <tr>\n      <th>...</th>\n      <td>...</td>\n    </tr>\n    <tr>\n      <th>3794</th>\n      <td>3794</td>\n    </tr>\n    <tr>\n      <th>3795</th>\n      <td>3795</td>\n    </tr>\n    <tr>\n      <th>3796</th>\n      <td>3796</td>\n    </tr>\n    <tr>\n      <th>3797</th>\n      <td>3797</td>\n    </tr>\n    <tr>\n      <th>3798</th>\n      <td>3798</td>\n    </tr>\n  </tbody>\n</table>\n<p>3799 rows × 1 columns</p>\n</div>"
     },
     "metadata": {},
     "execution_count": 14
    }
   ],
   "source": [
    "X_test_id = df_test.iloc[:,1:2]\n",
    "X_test_id"
   ]
  },
  {
   "cell_type": "code",
   "execution_count": 15,
   "metadata": {},
   "outputs": [
    {
     "output_type": "execute_result",
     "data": {
      "text/plain": [
       "['../data/processed/X_test_id']"
      ]
     },
     "metadata": {},
     "execution_count": 15
    }
   ],
   "source": [
    "joblib.dump(X_train, \"../data/processed/X_train\")\n",
    "joblib.dump(y_train, \"../data/processed/y_train\")\n",
    "joblib.dump(X_val, \"../data/processed/X_val\")\n",
    "joblib.dump(y_val, \"../data/processed/y_val\")\n",
    "joblib.dump(X_test, \"../data/processed/X_test\")\n",
    "joblib.dump(X_test_id, \"../data/processed/X_test_id\")"
   ]
  }
 ]
}